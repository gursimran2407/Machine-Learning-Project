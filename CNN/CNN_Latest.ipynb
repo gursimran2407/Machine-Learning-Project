{
 "cells": [
  {
   "cell_type": "code",
   "execution_count": 245,
   "metadata": {},
   "outputs": [],
   "source": [
    "import pickle\n",
    "import numpy as np\n",
    "import matplotlib.pyplot as plt\n",
    "from sklearn.tree import DecisionTreeClassifier\n",
    "from sklearn.model_selection import train_test_split\n",
    "import torch\n",
    "import torchvision\n",
    "import torchvision.transforms as transforms\n",
    "transform_train = transforms.Compose([\n",
    "            transforms.RandomCrop(32, padding=4),\n",
    "            transforms.RandomHorizontalFlip(),\n",
    "        transforms.ToTensor()\n",
    "        #self.transforms.Normalize((0.4914, 0.4822, 0.4465), (0.2023, 0.1994, 0.2010)),\n",
    "        ])\n",
    "\n",
    "\n",
    "class CNNData:\n",
    "    \n",
    "    def unpickle(self, file):\n",
    "        \n",
    "        with open(file,'rb') as fo:\n",
    "            dictonary = pickle.load(fo, encoding='bytes')\n",
    "        \n",
    "        return dictonary\n",
    "    \n",
    "    def store(self):\n",
    "        \n",
    "        final_dictionary = {}\n",
    "        \n",
    "        \n",
    "        for i in range(1,6):\n",
    "            fileName = \"data_batch_\" + str(i)\n",
    "            dictionary = self.unpickle(fileName)\n",
    "            #print((dictionary[b'data']))\n",
    "            if i == 1:\n",
    "                final_dictionary = dictionary\n",
    "            else:\n",
    "                final_dictionary[b'labels'].extend(dictionary[b'labels'])\n",
    "                final_dictionary[b'data'] = np.append(final_dictionary[b'data'],dictionary[b'data'], axis=0)\n",
    "            \n",
    "        del final_dictionary[b'batch_label']\n",
    "        del final_dictionary[b'filenames']\n",
    "                \n",
    "        return final_dictionary\n",
    "    \n",
    "    def showTestImage(self,data):\n",
    "        i=0\n",
    "        for key, value in data.items():\n",
    "            i += 1\n",
    "            if i==2:\n",
    "                plt.imshow(value[0].reshape(3,32,32).transpose(1,2,0))\n",
    "                \n",
    "    def modelaccuracies(self,data):\n",
    "        \n",
    "        models = []\n",
    "        max_depths = [10,11,12,13]\n",
    "        \n",
    "        for i in max_depths:\n",
    "            \n",
    "            clf = DecisionTreeClassifier(random_state=0,max_depth=i)\n",
    "            clf.fit(X_train, y_train)\n",
    "            models.append(clf)\n",
    "        \n",
    "        return models\n",
    "\n",
    "    def splitting_data(self,X,y):\n",
    "        X_train, X_test, y_train, y_test = train_test_split(X, y, \n",
    "                                                            test_size=0.2, random_state=42)\n",
    "\n",
    "        return X_train, X_test, y_train, y_test\n",
    "    \n",
    "    def checkAccuracies(self,X_train, X_test, y_train, y_test):\n",
    "        for i in models:\n",
    "            training_score = i.score(X_train, y_train)\n",
    "            test_score = i.score(X_test, y_test)\n",
    "            print(\"training Accuracy \" + str(training_score))\n",
    "            print(\"test Accuracy \" + str(test_score))\n",
    "            \n",
    "    def convertDataForCNN(self, X, y):\n",
    "       \n",
    "        X = X / 127.5\n",
    "        X = X -1        \n",
    "        return X, y\n",
    "    \n",
    "    def convertTensor(self,data,dtype):\n",
    "        return torch.tensor(data.astype(dtype))\n",
    "    \n",
    "    def getoutputclass(self,y):\n",
    "        y_temp = y.max().detach().numpy()\n",
    "        for i in range(len(y[0])):\n",
    "            if y_temp == y[0][i].detach().numpy():\n",
    "                return i\n",
    "\n",
    "    def calcAccuracy(self,x_test,y_test,model):\n",
    "        tp = 0\n",
    "        fp = 0\n",
    "        for i in range(len(x_test)-1):\n",
    "            y_pred = self.getoutputclass(torch.softmax(model(x_test[i].reshape(1,3,32,32)),dim=1))\n",
    "            if y_pred == y_test[i]:\n",
    "                tp = tp + 1\n",
    "            else:\n",
    "                fp = fp + 1\n",
    "        return tp,fp \n",
    "    def transform(self):\n",
    "        self.transform_train = transforms.Compose([\n",
    "        self.transforms.RandomCrop(32, padding=4),\n",
    "        self.transforms.RandomHorizontalFlip(),\n",
    "        self.transforms.ToTensor()\n",
    "        #self.transforms.Normalize((0.4914, 0.4822, 0.4465), (0.2023, 0.1994, 0.2010)),\n",
    "        ])\n",
    "        # Normalize the test set same as training set without augmentation\n",
    "        #self.transform_test = transforms.Compose([\n",
    "        #self.transforms.ToTensor(),\n",
    "        #self.transforms.Normalize((0.4914, 0.4822, 0.4465), (0.2023, 0.1994, 0.2010)),])\n",
    "        \n",
    "    def transformdata(self,data):\n",
    "        X1 = data.reshape(3,32,32).transpose(1,2,0)\n",
    "        X1 = transforms.ToPILImage()(X1)\n",
    "        #.convert(\"RGB\")\n",
    "        X1 = transform_train(X1)\n",
    "        X1 = X1.numpy()\n",
    "        return X1"
   ]
  },
  {
   "cell_type": "code",
   "execution_count": 200,
   "metadata": {},
   "outputs": [],
   "source": [
    "cnnData = CNNData()"
   ]
  },
  {
   "cell_type": "code",
   "execution_count": 246,
   "metadata": {},
   "outputs": [
    {
     "data": {
      "image/png": "[encoded data removed]",
      "text/plain": [
       "<Figure size 432x288 with 1 Axes>"
      ]
     },
     "metadata": {
      "needs_background": "light"
     },
     "output_type": "display_data"
    }
   ],
   "source": [
    "cnnData = CNNData()\n",
    "final_data = cnnData.store() \n",
    "cnnData.showTestImage(final_data)\n",
    "X = final_data[b'data']\n",
    "y = final_data[b'labels']\n",
    "X_train, X_test, y_train, y_test = cnnData.splitting_data(X, y)"
   ]
  },
  {
   "cell_type": "code",
   "execution_count": 166,
   "metadata": {},
   "outputs": [
    {
     "name": "stderr",
     "output_type": "stream",
     "text": [
      "Clipping input data to the valid range for imshow with RGB data ([0..1] for floats or [0..255] for integers).\n"
     ]
    },
    {
     "data": {
      "text/plain": [
       "<matplotlib.image.AxesImage at 0x138079210>"
      ]
     },
     "execution_count": 166,
     "metadata": {},
     "output_type": "execute_result"
    },
    {
     "data": {
      "image/png": "[encoded data removed]",
      "text/plain": [
       "<Figure size 432x288 with 1 Axes>"
      ]
     },
     "metadata": {
      "needs_background": "light"
     },
     "output_type": "display_data"
    }
   ],
   "source": [
    "# test image\n",
    "plt.imshow(X_train[0].reshape(3,32,32).transpose(1,2,0))"
   ]
  },
  {
   "cell_type": "code",
   "execution_count": 165,
   "metadata": {},
   "outputs": [],
   "source": [
    "X_train, y = cnnData.convertDataForCNN(X_train,y)"
   ]
  },
  {
   "cell_type": "code",
   "execution_count": 228,
   "metadata": {},
   "outputs": [
    {
     "data": {
      "text/plain": [
       "<matplotlib.image.AxesImage at 0x1373c3e10>"
      ]
     },
     "execution_count": 228,
     "metadata": {},
     "output_type": "execute_result"
    },
    {
     "data": {
      "image/png": "[encoded data removed]",
      "text/plain": [
       "<Figure size 432x288 with 1 Axes>"
      ]
     },
     "metadata": {
      "needs_background": "light"
     },
     "output_type": "display_data"
    }
   ],
   "source": [
    "# Transform data\n",
    "#cnnData.transform()\n",
    "X1 = cnnData.transformdata(X_train[0])\n",
    "plt.imshow(X1.reshape(3,32,32).transpose(1,2,0))"
   ]
  },
  {
   "cell_type": "code",
   "execution_count": 229,
   "metadata": {},
   "outputs": [
    {
     "data": {
      "text/plain": [
       "<matplotlib.image.AxesImage at 0x1366c3c10>"
      ]
     },
     "execution_count": 229,
     "metadata": {},
     "output_type": "execute_result"
    },
    {
     "data": {
      "image/png": "[encoded data removed]",
      "text/plain": [
       "<Figure size 432x288 with 1 Axes>"
      ]
     },
     "metadata": {
      "needs_background": "light"
     },
     "output_type": "display_data"
    }
   ],
   "source": [
    "X2 = cnnData.transformdata(X_train[0])\n",
    "plt.imshow(X2.reshape(3,32,32).transpose(1,2,0))"
   ]
  },
  {
   "cell_type": "code",
   "execution_count": 247,
   "metadata": {},
   "outputs": [],
   "source": [
    "y_train = np.array(y_train)\n",
    "y_test = np.array(y_test)"
   ]
  },
  {
   "cell_type": "code",
   "execution_count": 238,
   "metadata": {},
   "outputs": [
    {
     "data": {
      "text/plain": [
       "<matplotlib.image.AxesImage at 0x137f3bf90>"
      ]
     },
     "execution_count": 238,
     "metadata": {},
     "output_type": "execute_result"
    },
    {
     "data": {
      "image/png": "[encoded data removed]",
      "text/plain": [
       "<Figure size 432x288 with 1 Axes>"
      ]
     },
     "metadata": {
      "needs_background": "light"
     },
     "output_type": "display_data"
    }
   ],
   "source": [
    "\n",
    "plt.imshow((X_aug_train[0]).reshape(3,32,32).transpose(1,2,0))"
   ]
  },
  {
   "cell_type": "code",
   "execution_count": 239,
   "metadata": {},
   "outputs": [
    {
     "data": {
      "text/plain": [
       "<matplotlib.image.AxesImage at 0x138457950>"
      ]
     },
     "execution_count": 239,
     "metadata": {},
     "output_type": "execute_result"
    },
    {
     "data": {
      "image/png": "[encoded data removed]",
      "text/plain": [
       "<Figure size 432x288 with 1 Axes>"
      ]
     },
     "metadata": {
      "needs_background": "light"
     },
     "output_type": "display_data"
    }
   ],
   "source": [
    "\n",
    "plt.imshow((X_aug_train[40000]).reshape(3,32,32).transpose(1,2,0))"
   ]
  },
  {
   "cell_type": "code",
   "execution_count": 181,
   "metadata": {},
   "outputs": [],
   "source": [
    "X_aug_train = np.empty(shape=[80000, 3072])\n",
    "y_aug_train = np.empty(shape=[80000, ])\n",
    "j = len(X_train)\n",
    "for i in range(len(X_train)):\n",
    "    X_aug_train[i] = X_train[i]\n",
    "    y_aug_train[i] = y_train[i]\n",
    "    X_aug_train[j] = (cnnData.transformdata(X_train[i]).reshape(3072,))\n",
    "    y_aug_train[j] = y_train[i]\n",
    "    j = j + 1    "
   ]
  },
  {
   "cell_type": "code",
   "execution_count": 248,
   "metadata": {},
   "outputs": [],
   "source": [
    "X_aug_train = np.empty(shape=[80000, 3072])\n",
    "y_aug_train = np.empty(shape=[80000, ])\n",
    "X_aug_test = np.empty(shape=[10000, 3072])\n",
    "j = len(X_train)\n",
    "for i in range(len(X_train)):\n",
    "    X_aug_train[i] = (cnnData.transformdata(X_train[i]).reshape(3072,))\n",
    "    y_aug_train[i] = y_train[i]\n",
    "    X_aug_train[j] = (cnnData.transformdata(X_train[i]).reshape(3072,))\n",
    "    y_aug_train[j] = y_train[i]\n",
    "    j = j + 1\n",
    "    if i < 10000:\n",
    "        X_aug_test[i] = (cnnData.transformdata(X_test[i]).reshape(3072,))"
   ]
  },
  {
   "cell_type": "code",
   "execution_count": 252,
   "metadata": {},
   "outputs": [],
   "source": [
    "X_train = X_aug_train \n",
    "y_train = y_aug_train\n",
    "X_test = X_aug_test"
   ]
  },
  {
   "cell_type": "code",
   "execution_count": 253,
   "metadata": {},
   "outputs": [
    {
     "data": {
      "text/plain": [
       "(80000, 3072)"
      ]
     },
     "execution_count": 253,
     "metadata": {},
     "output_type": "execute_result"
    }
   ],
   "source": [
    "X_train.shape"
   ]
  },
  {
   "cell_type": "code",
   "execution_count": 254,
   "metadata": {},
   "outputs": [
    {
     "data": {
      "text/plain": [
       "(80000,)"
      ]
     },
     "execution_count": 254,
     "metadata": {},
     "output_type": "execute_result"
    }
   ],
   "source": [
    "y_train.shape"
   ]
  },
  {
   "cell_type": "code",
   "execution_count": 255,
   "metadata": {},
   "outputs": [],
   "source": [
    "#For CNN\n",
    "#X_train, y = cnnData.convertDataForCNN(X_train,y)\n",
    "#X_test, y = cnnData.convertDataForCNN(X_test, y)\n",
    "#X_train, X_test, y_train, y_test = cnnData.splitting_data(X, y)\n",
    "\n",
    "#plt.imshow(X_train[2].reshape(3,32,32).transpose(1,2,0))\n",
    "\n",
    "X_train = cnnData.convertTensor(X_train,np.float32)\n",
    "X_test = cnnData.convertTensor(X_test,np.float32)\n",
    "y_train = cnnData.convertTensor(y_train,np.int64)\n",
    "y_test = cnnData.convertTensor(y_test,np.int64)"
   ]
  },
  {
   "cell_type": "code",
   "execution_count": 120,
   "metadata": {},
   "outputs": [
    {
     "data": {
      "text/plain": [
       "torch.Size([10000, 3072])"
      ]
     },
     "execution_count": 120,
     "metadata": {},
     "output_type": "execute_result"
    }
   ],
   "source": [
    "X_test.shape"
   ]
  },
  {
   "cell_type": "code",
   "execution_count": 194,
   "metadata": {},
   "outputs": [
    {
     "ename": "TypeError",
     "evalue": "transpose() received an invalid combination of arguments - got (int, int, int), but expected one of:\n * (name dim0, name dim1)\n * (int dim0, int dim1)\n",
     "output_type": "error",
     "traceback": [
      "\u001b[0;31m---------------------------------------------------------------------------\u001b[0m",
      "\u001b[0;31mTypeError\u001b[0m                                 Traceback (most recent call last)",
      "\u001b[0;32m<ipython-input-194-0a588ceed443>\u001b[0m in \u001b[0;36m<module>\u001b[0;34m\u001b[0m\n\u001b[0;32m----> 1\u001b[0;31m \u001b[0mplt\u001b[0m\u001b[0;34m.\u001b[0m\u001b[0mimshow\u001b[0m\u001b[0;34m(\u001b[0m\u001b[0mX_train\u001b[0m\u001b[0;34m[\u001b[0m\u001b[0;36m30000\u001b[0m\u001b[0;34m]\u001b[0m\u001b[0;34m.\u001b[0m\u001b[0mreshape\u001b[0m\u001b[0;34m(\u001b[0m\u001b[0;36m3\u001b[0m\u001b[0;34m,\u001b[0m\u001b[0;36m32\u001b[0m\u001b[0;34m,\u001b[0m\u001b[0;36m32\u001b[0m\u001b[0;34m)\u001b[0m\u001b[0;34m.\u001b[0m\u001b[0mtranspose\u001b[0m\u001b[0;34m(\u001b[0m\u001b[0;36m1\u001b[0m\u001b[0;34m,\u001b[0m\u001b[0;36m2\u001b[0m\u001b[0;34m,\u001b[0m\u001b[0;36m0\u001b[0m\u001b[0;34m)\u001b[0m\u001b[0;34m)\u001b[0m\u001b[0;34m\u001b[0m\u001b[0;34m\u001b[0m\u001b[0m\n\u001b[0m",
      "\u001b[0;31mTypeError\u001b[0m: transpose() received an invalid combination of arguments - got (int, int, int), but expected one of:\n * (name dim0, name dim1)\n * (int dim0, int dim1)\n"
     ]
    }
   ],
   "source": [
    "plt.imshow(X_train[30000].reshape(3,32,32).transpose(1,2,0))"
   ]
  },
  {
   "cell_type": "code",
   "execution_count": 68,
   "metadata": {},
   "outputs": [
    {
     "data": {
      "text/plain": [
       "<matplotlib.image.AxesImage at 0x136aa3550>"
      ]
     },
     "execution_count": 68,
     "metadata": {},
     "output_type": "execute_result"
    },
    {
     "data": {
      "image/png": "[encoded data removed]",
      "text/plain": [
       "<Figure size 432x288 with 1 Axes>"
      ]
     },
     "metadata": {
      "needs_background": "light"
     },
     "output_type": "display_data"
    }
   ],
   "source": [
    "plt.imshow(X_train[0].reshape(3,32,32).transpose(1,2,0))"
   ]
  },
  {
   "cell_type": "code",
   "execution_count": 36,
   "metadata": {},
   "outputs": [
    {
     "data": {
      "text/plain": [
       "<matplotlib.image.AxesImage at 0x1351d7e50>"
      ]
     },
     "execution_count": 36,
     "metadata": {},
     "output_type": "execute_result"
    },
    {
     "data": {
      "image/png": "[encoded data removed]",
      "text/plain": [
       "<Figure size 432x288 with 1 Axes>"
      ]
     },
     "metadata": {
      "needs_background": "light"
     },
     "output_type": "display_data"
    }
   ],
   "source": [
    "plt.imshow(X_aug_train[70000].reshape(3,32,32).transpose(1,2,0))"
   ]
  },
  {
   "cell_type": "code",
   "execution_count": null,
   "metadata": {},
   "outputs": [],
   "source": [
    "torch.manual_seed(0)\n",
    "C=3\n",
    "num_filter = 10\n",
    "filter_size = 3\n",
    "model = torch.nn.Sequential(\n",
    "\n",
    "    torch.nn.Conv2d(in_channels=C,\n",
    "                    out_channels = 32,\n",
    "                    kernel_size=filter_size,\n",
    "                    stride=1\n",
    "                    padding=1,bias=False),\n",
    "    torch.nn.BatchNorm2d(32)\n",
    "    torch.nn.ReLU(),\n",
    "    torch.nn.MaxPool2d(kernel_size=filter_size,stride = 2),\n",
    "    torch.nn.Conv2d(in_channels=20,\n",
    "                    out_channels = 40,\n",
    "                    kernel_size=filter_size,\n",
    "                    padding=filter_size//2),\n",
    "    torch.nn.ReLU(),\n",
    "    torch.nn.MaxPool2d(kernel_size=filter_size,stride = 2),  \n",
    "    torch.nn.ReLU(),\n",
    "    torch.nn.Conv2d(in_channels=40,\n",
    "                    out_channels = 60,\n",
    "                    kernel_size=filter_size,\n",
    "                    padding=filter_size//2),\n",
    "    torch.nn.ReLU(),\n",
    "    torch.nn.MaxPool2d(kernel_size=filter_size,stride = 2),  \n",
    "    torch.nn.Flatten(),\n",
    "    torch.nn.Linear(60*4*4, (60*4*4)*3),\n",
    "    torch.nn.ReLU(),\n",
    "    torch.nn.Linear((60*4*4)*3,10),\n",
    ")"
   ]
  },
  {
   "cell_type": "code",
   "execution_count": 264,
   "metadata": {},
   "outputs": [],
   "source": [
    "torch.manual_seed(0)\n",
    "C=3\n",
    "num_filter = 10\n",
    "filter_size = 2\n",
    "model = torch.nn.Sequential(\n",
    "\n",
    "    torch.nn.Conv2d(in_channels=C,\n",
    "                    out_channels = 20,\n",
    "                    kernel_size=filter_size,\n",
    "                    padding=filter_size//2),\n",
    "    torch.nn.ReLU(),\n",
    "    torch.nn.MaxPool2d(kernel_size=filter_size,stride = 2),\n",
    "    torch.nn.Conv2d(in_channels=20,\n",
    "                    out_channels = 40,\n",
    "                    kernel_size=filter_size,\n",
    "                    padding=filter_size//2),\n",
    "    torch.nn.ReLU(),\n",
    "    torch.nn.MaxPool2d(kernel_size=filter_size,stride = 2),  \n",
    "    torch.nn.ReLU(),\n",
    "    torch.nn.Conv2d(in_channels=40,\n",
    "                    out_channels = 60,\n",
    "                    kernel_size=filter_size,\n",
    "                    padding=filter_size//2),\n",
    "    torch.nn.ReLU(),\n",
    "    torch.nn.MaxPool2d(kernel_size=filter_size,stride = 2),  \n",
    "    torch.nn.Flatten(),\n",
    "    torch.nn.Linear(60*4*4, (60*4*4)*3),\n",
    "    torch.nn.ReLU(),\n",
    "    torch.nn.Linear((60*4*4)*3,10),\n",
    ")"
   ]
  },
  {
   "cell_type": "code",
   "execution_count": 265,
   "metadata": {},
   "outputs": [],
   "source": [
    "batch_size = 50\n",
    "num_epoch = 10\n",
    "\n",
    "#loss = torch.nn.CrossEntropyLoss()\n",
    "loss = torch.nn.CrossEntropyLoss()\n",
    "#categorical_crossentropy\n",
    "optimizer = torch.optim.SGD(model.parameters(), lr=0.001, momentum=0.9)\n",
    "#weight_decay=1e-3"
   ]
  },
  {
   "cell_type": "code",
   "execution_count": null,
   "metadata": {},
   "outputs": [
    {
     "name": "stdout",
     "output_type": "stream",
     "text": [
      "Epoch 1 final minibatch had loss 2.2749\n",
      "Epoch 2 final minibatch had loss 1.9595\n",
      "Epoch 3 final minibatch had loss 1.8896\n",
      "Epoch 4 final minibatch had loss 1.7321\n",
      "Epoch 5 final minibatch had loss 1.5287\n",
      "Epoch 6 final minibatch had loss 1.4230\n",
      "Epoch 7 final minibatch had loss 1.3634\n",
      "Epoch 8 final minibatch had loss 1.3295\n"
     ]
    }
   ],
   "source": [
    "for epoch in range(1, num_epoch+1):\n",
    "    for i in range(0, len(X_train), batch_size):        \n",
    "        X = X_train[i:i+batch_size].reshape(batch_size,3,32,32)\n",
    "        y = y_train[i:i+batch_size]\n",
    "\n",
    "        y_pred = model(X)\n",
    "        l = loss(y_pred, y)\n",
    "        \n",
    "        model.zero_grad()\n",
    "        l.backward()\n",
    "        optimizer.step()\n",
    "    print(\"Epoch %d final minibatch had loss %.4f\" % (epoch, l.item()))    "
   ]
  },
  {
   "cell_type": "code",
   "execution_count": 135,
   "metadata": {},
   "outputs": [],
   "source": []
  },
  {
   "cell_type": "code",
   "execution_count": 259,
   "metadata": {},
   "outputs": [
    {
     "name": "stdout",
     "output_type": "stream",
     "text": [
      "True positives: 4619\n",
      "False positives: 5380\n",
      "10000\n",
      "0.4619\n"
     ]
    }
   ],
   "source": [
    "tp,fp = cnnData.calcAccuracy(X_test,y_test,model)\n",
    "print(\"True positives:\",tp)\n",
    "print(\"False positives:\",fp)\n",
    "print(len(X_test))\n",
    "print(tp / len(X_test))"
   ]
  },
  {
   "cell_type": "code",
   "execution_count": 202,
   "metadata": {},
   "outputs": [
    {
     "data": {
      "text/plain": [
       "torch.Size([40000, 3072])"
      ]
     },
     "execution_count": 202,
     "metadata": {},
     "output_type": "execute_result"
    }
   ],
   "source": [
    "X_test.shape"
   ]
  },
  {
   "cell_type": "code",
   "execution_count": 143,
   "metadata": {},
   "outputs": [
    {
     "name": "stderr",
     "output_type": "stream",
     "text": [
      "Clipping input data to the valid range for imshow with RGB data ([0..1] for floats or [0..255] for integers).\n"
     ]
    },
    {
     "data": {
      "text/plain": [
       "<matplotlib.image.AxesImage at 0x1373fc7d0>"
      ]
     },
     "execution_count": 143,
     "metadata": {},
     "output_type": "execute_result"
    },
    {
     "data": {
      "image/png": "[encoded data removed]",
      "text/plain": [
       "<Figure size 432x288 with 1 Axes>"
      ]
     },
     "metadata": {
      "needs_background": "light"
     },
     "output_type": "display_data"
    }
   ],
   "source": [
    "temp = X_train[30000].numpy()\n",
    "plt.imshow(temp.reshape(3,32,32).transpose(1,2,0))"
   ]
  }
 ],
 "metadata": {
  "kernelspec": {
   "display_name": "Python 3",
   "language": "python",
   "name": "python3"
  },
  "language_info": {
   "codemirror_mode": {
    "name": "ipython",
    "version": 3
   },
   "file_extension": ".py",
   "mimetype": "text/x-python",
   "name": "python",
   "nbconvert_exporter": "python",
   "pygments_lexer": "ipython3",
   "version": "3.7.4"
  }
 },
 "nbformat": 4,
 "nbformat_minor": 2
}
