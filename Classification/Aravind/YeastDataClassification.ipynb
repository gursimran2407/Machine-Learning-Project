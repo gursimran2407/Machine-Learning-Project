{
 "cells": [
  {
   "cell_type": "code",
   "execution_count": 1,
   "metadata": {},
   "outputs": [],
   "source": [
    "import numpy as np\n",
    "import seaborn as sns\n",
    "import matplotlib.pyplot as plt\n",
    "import pandas as pd\n",
    "from scipy import stats\n",
    "from sklearn.model_selection import train_test_split\n",
    "from sklearn.linear_model import LogisticRegression\n",
    "from sklearn.neighbors import KNeighborsClassifier\n",
    "from sklearn.svm import SVC\n",
    "from sklearn.tree import DecisionTreeClassifier\n",
    "from sklearn.ensemble import RandomForestClassifier\n",
    "from sklearn.ensemble import AdaBoostClassifier\n",
    "from sklearn.naive_bayes import GaussianNB\n",
    "from sklearn.neural_network import MLPClassifier\n",
    "from sklearn.model_selection import GridSearchCV\n",
    "from sklearn.preprocessing import StandardScaler\n",
    "from sklearn.metrics import classification_report,confusion_matrix"
   ]
  },
  {
   "cell_type": "code",
   "execution_count": 2,
   "metadata": {},
   "outputs": [],
   "source": [
    "col = ['Sequence Name','mcg','gvh','alm','mit','erl','pox','vac','nuc','localization-site']"
   ]
  },
  {
   "cell_type": "code",
   "execution_count": 13,
   "metadata": {},
   "outputs": [],
   "source": [
    "data = pd.read_csv(\"yeast.data\",delim_whitespace=True)"
   ]
  },
  {
   "cell_type": "code",
   "execution_count": null,
   "metadata": {},
   "outputs": [],
   "source": [
    "def Yeast_Category(self):\n",
    "    col = ['Sequence Name','mcg','gvh','alm','mit','erl','pox','vac','nuc','localization-site']\n",
    "    data = pd.read_csv(\"yeast.data\",delim_whitespace=True)\n",
    "    categorical_columns = ['Sequence Name','localization-site']\n",
    "    for i in categorical_columns:\n",
    "    data[i] = pd.Categorical(data[i]).codes\n",
    "    data.columns = data.columns.str.lstrip()\n",
    "    a = StandardScaler()\n",
    "    X = data.drop(['salary'],axis=1)\n",
    "    X = a.fit_transform(X)\n",
    "    y = data['salary']\n",
    "    X_train,X_test,y_train,y_test = train_test_split(X,y,random_state=0,test_size=0.3)\n",
    "    train_models(X_train,X_test,y_train,y_test)\n",
    "    lr_params = {'C':np.logspace(-4, 4, 20),\n",
    "                        'penalty' :['l1','l2'],\n",
    "                        'max_iter':[1000]}\n",
    "    knn_params={'n_neighbors':np.array(range(2,50))}\n",
    "    svm_params = { 'C' : np.logspace(0, 3, 4), 'gamma' : np.logspace(-2, 1, 4)}\n",
    "    decisiontree_params = { 'max_depth' : np.arange(5,10,1)}\n",
    "    random_forest_params = { 'n_estimators' : np.arange(10,100,10), 'max_depth' : np.arange(5,50,5)}\n",
    "    adaBoost_params = { 'n_estimators' : np.arange(10,100,10)}\n",
    "    nn_params = {\n",
    "                'hidden_layer_sizes': np.arange(50,150,20),\n",
    "                'learning_rate': ['constant','adaptive'],\n",
    "                'max_iter': np.arange(200,300,50)\n",
    "                }\n",
    "    yeast_category_results = self.train_models(X_train,\n",
    "                                                 y_train,\n",
    "                                                 X_test,y_test, \n",
    "                                                 lr_params,\n",
    "                                                 knn_params,\n",
    "                                                 svm_params,\n",
    "                                                 decisiontree_params,\n",
    "                                                 random_forest_params, \n",
    "                                                 adaBoost_params,\n",
    "                                                 nn_params,\n",
    "                                                'Yeast_Category')\n",
    "    return yeast_category_results"
   ]
  },
  {
   "cell_type": "code",
   "execution_count": 14,
   "metadata": {},
   "outputs": [
    {
     "name": "stdout",
     "output_type": "stream",
     "text": [
      "<class 'pandas.core.frame.DataFrame'>\n",
      "RangeIndex: 1483 entries, 0 to 1482\n",
      "Data columns (total 10 columns):\n",
      "ADT1_YEAST    1483 non-null object\n",
      "0.58          1483 non-null float64\n",
      "0.61          1483 non-null float64\n",
      "0.47          1483 non-null float64\n",
      "0.13          1483 non-null float64\n",
      "0.50          1483 non-null float64\n",
      "0.00          1483 non-null float64\n",
      "0.48          1483 non-null float64\n",
      "0.22          1483 non-null float64\n",
      "MIT           1483 non-null object\n",
      "dtypes: float64(8), object(2)\n",
      "memory usage: 116.0+ KB\n"
     ]
    }
   ],
   "source": [
    "data.info()"
   ]
  },
  {
   "cell_type": "code",
   "execution_count": 15,
   "metadata": {},
   "outputs": [],
   "source": [
    "data.columns=col"
   ]
  },
  {
   "cell_type": "code",
   "execution_count": 16,
   "metadata": {},
   "outputs": [
    {
     "data": {
      "text/html": [
       "<div>\n",
       "<style scoped>\n",
       "    .dataframe tbody tr th:only-of-type {\n",
       "        vertical-align: middle;\n",
       "    }\n",
       "\n",
       "    .dataframe tbody tr th {\n",
       "        vertical-align: top;\n",
       "    }\n",
       "\n",
       "    .dataframe thead th {\n",
       "        text-align: right;\n",
       "    }\n",
       "</style>\n",
       "<table border=\"1\" class=\"dataframe\">\n",
       "  <thead>\n",
       "    <tr style=\"text-align: right;\">\n",
       "      <th></th>\n",
       "      <th>Sequence Name</th>\n",
       "      <th>mcg</th>\n",
       "      <th>gvh</th>\n",
       "      <th>alm</th>\n",
       "      <th>mit</th>\n",
       "      <th>erl</th>\n",
       "      <th>pox</th>\n",
       "      <th>vac</th>\n",
       "      <th>nuc</th>\n",
       "      <th>localization-site</th>\n",
       "    </tr>\n",
       "  </thead>\n",
       "  <tbody>\n",
       "    <tr>\n",
       "      <td>0</td>\n",
       "      <td>ADT2_YEAST</td>\n",
       "      <td>0.43</td>\n",
       "      <td>0.67</td>\n",
       "      <td>0.48</td>\n",
       "      <td>0.27</td>\n",
       "      <td>0.5</td>\n",
       "      <td>0.0</td>\n",
       "      <td>0.53</td>\n",
       "      <td>0.22</td>\n",
       "      <td>MIT</td>\n",
       "    </tr>\n",
       "    <tr>\n",
       "      <td>1</td>\n",
       "      <td>ADT3_YEAST</td>\n",
       "      <td>0.64</td>\n",
       "      <td>0.62</td>\n",
       "      <td>0.49</td>\n",
       "      <td>0.15</td>\n",
       "      <td>0.5</td>\n",
       "      <td>0.0</td>\n",
       "      <td>0.53</td>\n",
       "      <td>0.22</td>\n",
       "      <td>MIT</td>\n",
       "    </tr>\n",
       "    <tr>\n",
       "      <td>2</td>\n",
       "      <td>AAR2_YEAST</td>\n",
       "      <td>0.58</td>\n",
       "      <td>0.44</td>\n",
       "      <td>0.57</td>\n",
       "      <td>0.13</td>\n",
       "      <td>0.5</td>\n",
       "      <td>0.0</td>\n",
       "      <td>0.54</td>\n",
       "      <td>0.22</td>\n",
       "      <td>NUC</td>\n",
       "    </tr>\n",
       "    <tr>\n",
       "      <td>3</td>\n",
       "      <td>AATM_YEAST</td>\n",
       "      <td>0.42</td>\n",
       "      <td>0.44</td>\n",
       "      <td>0.48</td>\n",
       "      <td>0.54</td>\n",
       "      <td>0.5</td>\n",
       "      <td>0.0</td>\n",
       "      <td>0.48</td>\n",
       "      <td>0.22</td>\n",
       "      <td>MIT</td>\n",
       "    </tr>\n",
       "    <tr>\n",
       "      <td>4</td>\n",
       "      <td>AATC_YEAST</td>\n",
       "      <td>0.51</td>\n",
       "      <td>0.40</td>\n",
       "      <td>0.56</td>\n",
       "      <td>0.17</td>\n",
       "      <td>0.5</td>\n",
       "      <td>0.5</td>\n",
       "      <td>0.49</td>\n",
       "      <td>0.22</td>\n",
       "      <td>CYT</td>\n",
       "    </tr>\n",
       "  </tbody>\n",
       "</table>\n",
       "</div>"
      ],
      "text/plain": [
       "  Sequence Name   mcg   gvh   alm   mit  erl  pox   vac   nuc  \\\n",
       "0    ADT2_YEAST  0.43  0.67  0.48  0.27  0.5  0.0  0.53  0.22   \n",
       "1    ADT3_YEAST  0.64  0.62  0.49  0.15  0.5  0.0  0.53  0.22   \n",
       "2    AAR2_YEAST  0.58  0.44  0.57  0.13  0.5  0.0  0.54  0.22   \n",
       "3    AATM_YEAST  0.42  0.44  0.48  0.54  0.5  0.0  0.48  0.22   \n",
       "4    AATC_YEAST  0.51  0.40  0.56  0.17  0.5  0.5  0.49  0.22   \n",
       "\n",
       "  localization-site  \n",
       "0               MIT  \n",
       "1               MIT  \n",
       "2               NUC  \n",
       "3               MIT  \n",
       "4               CYT  "
      ]
     },
     "execution_count": 16,
     "metadata": {},
     "output_type": "execute_result"
    }
   ],
   "source": [
    "data.head(n=5)"
   ]
  },
  {
   "cell_type": "code",
   "execution_count": 95,
   "metadata": {},
   "outputs": [],
   "source": [
    "categorical_columns = ['workclass','education','marital-status','occupation','relationship','race','sex','native-country','salary']"
   ]
  },
  {
   "cell_type": "code",
   "execution_count": 17,
   "metadata": {},
   "outputs": [],
   "source": [
    "categorical_columns = ['Sequence Name','localization-site']"
   ]
  },
  {
   "cell_type": "code",
   "execution_count": 18,
   "metadata": {},
   "outputs": [],
   "source": [
    "for i in categorical_columns:\n",
    "    data[i] = pd.Categorical(data[i]).codes"
   ]
  },
  {
   "cell_type": "code",
   "execution_count": 19,
   "metadata": {},
   "outputs": [],
   "source": [
    "data.columns = data.columns.str.lstrip()"
   ]
  },
  {
   "cell_type": "code",
   "execution_count": 20,
   "metadata": {},
   "outputs": [
    {
     "data": {
      "text/html": [
       "<div>\n",
       "<style scoped>\n",
       "    .dataframe tbody tr th:only-of-type {\n",
       "        vertical-align: middle;\n",
       "    }\n",
       "\n",
       "    .dataframe tbody tr th {\n",
       "        vertical-align: top;\n",
       "    }\n",
       "\n",
       "    .dataframe thead th {\n",
       "        text-align: right;\n",
       "    }\n",
       "</style>\n",
       "<table border=\"1\" class=\"dataframe\">\n",
       "  <thead>\n",
       "    <tr style=\"text-align: right;\">\n",
       "      <th></th>\n",
       "      <th>Sequence Name</th>\n",
       "      <th>mcg</th>\n",
       "      <th>gvh</th>\n",
       "      <th>alm</th>\n",
       "      <th>mit</th>\n",
       "      <th>erl</th>\n",
       "      <th>pox</th>\n",
       "      <th>vac</th>\n",
       "      <th>nuc</th>\n",
       "      <th>localization-site</th>\n",
       "    </tr>\n",
       "  </thead>\n",
       "  <tbody>\n",
       "    <tr>\n",
       "      <td>0</td>\n",
       "      <td>32</td>\n",
       "      <td>0.43</td>\n",
       "      <td>0.67</td>\n",
       "      <td>0.48</td>\n",
       "      <td>0.27</td>\n",
       "      <td>0.5</td>\n",
       "      <td>0.0</td>\n",
       "      <td>0.53</td>\n",
       "      <td>0.22</td>\n",
       "      <td>6</td>\n",
       "    </tr>\n",
       "    <tr>\n",
       "      <td>1</td>\n",
       "      <td>33</td>\n",
       "      <td>0.64</td>\n",
       "      <td>0.62</td>\n",
       "      <td>0.49</td>\n",
       "      <td>0.15</td>\n",
       "      <td>0.5</td>\n",
       "      <td>0.0</td>\n",
       "      <td>0.53</td>\n",
       "      <td>0.22</td>\n",
       "      <td>6</td>\n",
       "    </tr>\n",
       "    <tr>\n",
       "      <td>2</td>\n",
       "      <td>2</td>\n",
       "      <td>0.58</td>\n",
       "      <td>0.44</td>\n",
       "      <td>0.57</td>\n",
       "      <td>0.13</td>\n",
       "      <td>0.5</td>\n",
       "      <td>0.0</td>\n",
       "      <td>0.54</td>\n",
       "      <td>0.22</td>\n",
       "      <td>7</td>\n",
       "    </tr>\n",
       "    <tr>\n",
       "      <td>3</td>\n",
       "      <td>4</td>\n",
       "      <td>0.42</td>\n",
       "      <td>0.44</td>\n",
       "      <td>0.48</td>\n",
       "      <td>0.54</td>\n",
       "      <td>0.5</td>\n",
       "      <td>0.0</td>\n",
       "      <td>0.48</td>\n",
       "      <td>0.22</td>\n",
       "      <td>6</td>\n",
       "    </tr>\n",
       "    <tr>\n",
       "      <td>4</td>\n",
       "      <td>3</td>\n",
       "      <td>0.51</td>\n",
       "      <td>0.40</td>\n",
       "      <td>0.56</td>\n",
       "      <td>0.17</td>\n",
       "      <td>0.5</td>\n",
       "      <td>0.5</td>\n",
       "      <td>0.49</td>\n",
       "      <td>0.22</td>\n",
       "      <td>0</td>\n",
       "    </tr>\n",
       "    <tr>\n",
       "      <td>5</td>\n",
       "      <td>5</td>\n",
       "      <td>0.50</td>\n",
       "      <td>0.54</td>\n",
       "      <td>0.48</td>\n",
       "      <td>0.65</td>\n",
       "      <td>0.5</td>\n",
       "      <td>0.0</td>\n",
       "      <td>0.53</td>\n",
       "      <td>0.22</td>\n",
       "      <td>6</td>\n",
       "    </tr>\n",
       "    <tr>\n",
       "      <td>6</td>\n",
       "      <td>99</td>\n",
       "      <td>0.48</td>\n",
       "      <td>0.45</td>\n",
       "      <td>0.59</td>\n",
       "      <td>0.20</td>\n",
       "      <td>0.5</td>\n",
       "      <td>0.0</td>\n",
       "      <td>0.58</td>\n",
       "      <td>0.34</td>\n",
       "      <td>7</td>\n",
       "    </tr>\n",
       "    <tr>\n",
       "      <td>7</td>\n",
       "      <td>6</td>\n",
       "      <td>0.55</td>\n",
       "      <td>0.50</td>\n",
       "      <td>0.66</td>\n",
       "      <td>0.36</td>\n",
       "      <td>0.5</td>\n",
       "      <td>0.0</td>\n",
       "      <td>0.49</td>\n",
       "      <td>0.22</td>\n",
       "      <td>6</td>\n",
       "    </tr>\n",
       "    <tr>\n",
       "      <td>8</td>\n",
       "      <td>7</td>\n",
       "      <td>0.40</td>\n",
       "      <td>0.39</td>\n",
       "      <td>0.60</td>\n",
       "      <td>0.15</td>\n",
       "      <td>0.5</td>\n",
       "      <td>0.0</td>\n",
       "      <td>0.58</td>\n",
       "      <td>0.30</td>\n",
       "      <td>0</td>\n",
       "    </tr>\n",
       "    <tr>\n",
       "      <td>9</td>\n",
       "      <td>8</td>\n",
       "      <td>0.43</td>\n",
       "      <td>0.39</td>\n",
       "      <td>0.54</td>\n",
       "      <td>0.21</td>\n",
       "      <td>0.5</td>\n",
       "      <td>0.0</td>\n",
       "      <td>0.53</td>\n",
       "      <td>0.27</td>\n",
       "      <td>7</td>\n",
       "    </tr>\n",
       "  </tbody>\n",
       "</table>\n",
       "</div>"
      ],
      "text/plain": [
       "   Sequence Name   mcg   gvh   alm   mit  erl  pox   vac   nuc  \\\n",
       "0             32  0.43  0.67  0.48  0.27  0.5  0.0  0.53  0.22   \n",
       "1             33  0.64  0.62  0.49  0.15  0.5  0.0  0.53  0.22   \n",
       "2              2  0.58  0.44  0.57  0.13  0.5  0.0  0.54  0.22   \n",
       "3              4  0.42  0.44  0.48  0.54  0.5  0.0  0.48  0.22   \n",
       "4              3  0.51  0.40  0.56  0.17  0.5  0.5  0.49  0.22   \n",
       "5              5  0.50  0.54  0.48  0.65  0.5  0.0  0.53  0.22   \n",
       "6             99  0.48  0.45  0.59  0.20  0.5  0.0  0.58  0.34   \n",
       "7              6  0.55  0.50  0.66  0.36  0.5  0.0  0.49  0.22   \n",
       "8              7  0.40  0.39  0.60  0.15  0.5  0.0  0.58  0.30   \n",
       "9              8  0.43  0.39  0.54  0.21  0.5  0.0  0.53  0.27   \n",
       "\n",
       "   localization-site  \n",
       "0                  6  \n",
       "1                  6  \n",
       "2                  7  \n",
       "3                  6  \n",
       "4                  0  \n",
       "5                  6  \n",
       "6                  7  \n",
       "7                  6  \n",
       "8                  0  \n",
       "9                  7  "
      ]
     },
     "execution_count": 20,
     "metadata": {},
     "output_type": "execute_result"
    }
   ],
   "source": [
    "data.head(n=10)"
   ]
  },
  {
   "cell_type": "code",
   "execution_count": 55,
   "metadata": {},
   "outputs": [
    {
     "data": {
      "text/html": [
       "<div>\n",
       "<style scoped>\n",
       "    .dataframe tbody tr th:only-of-type {\n",
       "        vertical-align: middle;\n",
       "    }\n",
       "\n",
       "    .dataframe tbody tr th {\n",
       "        vertical-align: top;\n",
       "    }\n",
       "\n",
       "    .dataframe thead th {\n",
       "        text-align: right;\n",
       "    }\n",
       "</style>\n",
       "<table border=\"1\" class=\"dataframe\">\n",
       "  <thead>\n",
       "    <tr style=\"text-align: right;\">\n",
       "      <th></th>\n",
       "      <th>Sequence Name</th>\n",
       "      <th>mcg</th>\n",
       "      <th>gvh</th>\n",
       "      <th>alm</th>\n",
       "      <th>mit</th>\n",
       "      <th>erl</th>\n",
       "      <th>pox</th>\n",
       "      <th>vac</th>\n",
       "      <th>nuc</th>\n",
       "      <th>localization-site</th>\n",
       "    </tr>\n",
       "  </thead>\n",
       "  <tbody>\n",
       "    <tr>\n",
       "      <td>count</td>\n",
       "      <td>1483.000000</td>\n",
       "      <td>1483.000000</td>\n",
       "      <td>1483.000000</td>\n",
       "      <td>1483.000000</td>\n",
       "      <td>1483.000000</td>\n",
       "      <td>1483.000000</td>\n",
       "      <td>1483.000000</td>\n",
       "      <td>1483.000000</td>\n",
       "      <td>1483.000000</td>\n",
       "      <td>1483.000000</td>\n",
       "    </tr>\n",
       "    <tr>\n",
       "      <td>mean</td>\n",
       "      <td>731.256912</td>\n",
       "      <td>0.500067</td>\n",
       "      <td>0.499858</td>\n",
       "      <td>0.500054</td>\n",
       "      <td>0.261274</td>\n",
       "      <td>0.504720</td>\n",
       "      <td>0.007505</td>\n",
       "      <td>0.499899</td>\n",
       "      <td>0.276237</td>\n",
       "      <td>4.124747</td>\n",
       "    </tr>\n",
       "    <tr>\n",
       "      <td>std</td>\n",
       "      <td>419.782393</td>\n",
       "      <td>0.137330</td>\n",
       "      <td>0.123933</td>\n",
       "      <td>0.086696</td>\n",
       "      <td>0.137102</td>\n",
       "      <td>0.048367</td>\n",
       "      <td>0.075708</td>\n",
       "      <td>0.057814</td>\n",
       "      <td>0.106516</td>\n",
       "      <td>3.038209</td>\n",
       "    </tr>\n",
       "    <tr>\n",
       "      <td>min</td>\n",
       "      <td>0.000000</td>\n",
       "      <td>0.110000</td>\n",
       "      <td>0.130000</td>\n",
       "      <td>0.210000</td>\n",
       "      <td>0.000000</td>\n",
       "      <td>0.500000</td>\n",
       "      <td>0.000000</td>\n",
       "      <td>0.000000</td>\n",
       "      <td>0.000000</td>\n",
       "      <td>0.000000</td>\n",
       "    </tr>\n",
       "    <tr>\n",
       "      <td>25%</td>\n",
       "      <td>369.500000</td>\n",
       "      <td>0.410000</td>\n",
       "      <td>0.420000</td>\n",
       "      <td>0.460000</td>\n",
       "      <td>0.170000</td>\n",
       "      <td>0.500000</td>\n",
       "      <td>0.000000</td>\n",
       "      <td>0.480000</td>\n",
       "      <td>0.220000</td>\n",
       "      <td>0.000000</td>\n",
       "    </tr>\n",
       "    <tr>\n",
       "      <td>50%</td>\n",
       "      <td>735.000000</td>\n",
       "      <td>0.490000</td>\n",
       "      <td>0.490000</td>\n",
       "      <td>0.510000</td>\n",
       "      <td>0.220000</td>\n",
       "      <td>0.500000</td>\n",
       "      <td>0.000000</td>\n",
       "      <td>0.510000</td>\n",
       "      <td>0.220000</td>\n",
       "      <td>5.000000</td>\n",
       "    </tr>\n",
       "    <tr>\n",
       "      <td>75%</td>\n",
       "      <td>1089.500000</td>\n",
       "      <td>0.580000</td>\n",
       "      <td>0.570000</td>\n",
       "      <td>0.550000</td>\n",
       "      <td>0.320000</td>\n",
       "      <td>0.500000</td>\n",
       "      <td>0.000000</td>\n",
       "      <td>0.530000</td>\n",
       "      <td>0.300000</td>\n",
       "      <td>7.000000</td>\n",
       "    </tr>\n",
       "    <tr>\n",
       "      <td>max</td>\n",
       "      <td>1460.000000</td>\n",
       "      <td>1.000000</td>\n",
       "      <td>1.000000</td>\n",
       "      <td>1.000000</td>\n",
       "      <td>1.000000</td>\n",
       "      <td>1.000000</td>\n",
       "      <td>0.830000</td>\n",
       "      <td>0.730000</td>\n",
       "      <td>1.000000</td>\n",
       "      <td>9.000000</td>\n",
       "    </tr>\n",
       "  </tbody>\n",
       "</table>\n",
       "</div>"
      ],
      "text/plain": [
       "       Sequence Name          mcg          gvh          alm          mit  \\\n",
       "count    1483.000000  1483.000000  1483.000000  1483.000000  1483.000000   \n",
       "mean      731.256912     0.500067     0.499858     0.500054     0.261274   \n",
       "std       419.782393     0.137330     0.123933     0.086696     0.137102   \n",
       "min         0.000000     0.110000     0.130000     0.210000     0.000000   \n",
       "25%       369.500000     0.410000     0.420000     0.460000     0.170000   \n",
       "50%       735.000000     0.490000     0.490000     0.510000     0.220000   \n",
       "75%      1089.500000     0.580000     0.570000     0.550000     0.320000   \n",
       "max      1460.000000     1.000000     1.000000     1.000000     1.000000   \n",
       "\n",
       "               erl          pox          vac          nuc  localization-site  \n",
       "count  1483.000000  1483.000000  1483.000000  1483.000000        1483.000000  \n",
       "mean      0.504720     0.007505     0.499899     0.276237           4.124747  \n",
       "std       0.048367     0.075708     0.057814     0.106516           3.038209  \n",
       "min       0.500000     0.000000     0.000000     0.000000           0.000000  \n",
       "25%       0.500000     0.000000     0.480000     0.220000           0.000000  \n",
       "50%       0.500000     0.000000     0.510000     0.220000           5.000000  \n",
       "75%       0.500000     0.000000     0.530000     0.300000           7.000000  \n",
       "max       1.000000     0.830000     0.730000     1.000000           9.000000  "
      ]
     },
     "execution_count": 55,
     "metadata": {},
     "output_type": "execute_result"
    }
   ],
   "source": [
    "data.describe()"
   ]
  },
  {
   "cell_type": "code",
   "execution_count": 132,
   "metadata": {},
   "outputs": [
    {
     "data": {
      "text/plain": [
       "0"
      ]
     },
     "execution_count": 132,
     "metadata": {},
     "output_type": "execute_result"
    }
   ],
   "source": [
    "pd.isna(data['workclass']).sum()"
   ]
  },
  {
   "cell_type": "code",
   "execution_count": null,
   "metadata": {},
   "outputs": [],
   "source": []
  },
  {
   "cell_type": "code",
   "execution_count": null,
   "metadata": {},
   "outputs": [],
   "source": []
  },
  {
   "cell_type": "code",
   "execution_count": 21,
   "metadata": {},
   "outputs": [],
   "source": [
    "from sklearn.preprocessing import StandardScaler"
   ]
  },
  {
   "cell_type": "code",
   "execution_count": 25,
   "metadata": {},
   "outputs": [],
   "source": [
    "a = StandardScaler()\n",
    "X = data.drop(['localization-site'],axis=1)\n",
    "X = a.fit_transform(X)\n",
    "y = data['localization-site']\n",
    "X_train,X_test,y_train,y_test = train_test_split(X,y,random_state=0,test_size=0.3)"
   ]
  },
  {
   "cell_type": "code",
   "execution_count": 145,
   "metadata": {},
   "outputs": [],
   "source": [
    "from sklearn.model_selection import train_test_split"
   ]
  },
  {
   "cell_type": "code",
   "execution_count": 147,
   "metadata": {},
   "outputs": [],
   "source": [
    "X_train,X_test,y_train,y_test = train_test_split(X,y,random_state=0,test_size=0.3)"
   ]
  },
  {
   "cell_type": "code",
   "execution_count": 26,
   "metadata": {},
   "outputs": [],
   "source": [
    "from sklearn.linear_model import LogisticRegression"
   ]
  },
  {
   "cell_type": "code",
   "execution_count": 50,
   "metadata": {},
   "outputs": [],
   "source": [
    "lr = LogisticRegression(solver='lbfgs',random_state=0,multi_class='multinomial')"
   ]
  },
  {
   "cell_type": "code",
   "execution_count": 51,
   "metadata": {},
   "outputs": [
    {
     "name": "stderr",
     "output_type": "stream",
     "text": [
      "C:\\Users\\Aravind Reddy\\Anaconda3\\lib\\site-packages\\sklearn\\linear_model\\logistic.py:947: ConvergenceWarning: lbfgs failed to converge. Increase the number of iterations.\n",
      "  \"of iterations.\", ConvergenceWarning)\n"
     ]
    },
    {
     "data": {
      "text/plain": [
       "LogisticRegression(C=1.0, class_weight=None, dual=False, fit_intercept=True,\n",
       "                   intercept_scaling=1, l1_ratio=None, max_iter=100,\n",
       "                   multi_class='multinomial', n_jobs=None, penalty='l2',\n",
       "                   random_state=0, solver='lbfgs', tol=0.0001, verbose=0,\n",
       "                   warm_start=False)"
      ]
     },
     "execution_count": 51,
     "metadata": {},
     "output_type": "execute_result"
    }
   ],
   "source": [
    "\n",
    "lr.fit(X_train,y_train)"
   ]
  },
  {
   "cell_type": "code",
   "execution_count": 52,
   "metadata": {},
   "outputs": [],
   "source": [
    "predict = lr.predict(X_test)"
   ]
  },
  {
   "cell_type": "code",
   "execution_count": 54,
   "metadata": {},
   "outputs": [
    {
     "name": "stdout",
     "output_type": "stream",
     "text": [
      "Train -  0.6040462427745664\n",
      "Test -  0.5865168539325842\n"
     ]
    }
   ],
   "source": [
    "print(\"Train - \",lr.score(X_train,y_train))\n",
    "print(\"Test - \",lr.score(X_test,y_test))"
   ]
  },
  {
   "cell_type": "code",
   "execution_count": 31,
   "metadata": {},
   "outputs": [
    {
     "name": "stdout",
     "output_type": "stream",
     "text": [
      "              precision    recall  f1-score   support\n",
      "\n",
      "           0       0.49      0.80      0.60       133\n",
      "           1       1.00      0.50      0.67         4\n",
      "           2       0.83      0.36      0.50        14\n",
      "           3       0.77      0.71      0.74        14\n",
      "           4       0.56      0.31      0.40        16\n",
      "           5       0.70      0.84      0.76        44\n",
      "           6       0.60      0.55      0.58        74\n",
      "           7       0.73      0.41      0.53       128\n",
      "           8       0.67      0.40      0.50         5\n",
      "           9       0.00      0.00      0.00        13\n",
      "\n",
      "    accuracy                           0.59       445\n",
      "   macro avg       0.63      0.49      0.53       445\n",
      "weighted avg       0.61      0.59      0.57       445\n",
      "\n"
     ]
    },
    {
     "name": "stderr",
     "output_type": "stream",
     "text": [
      "C:\\Users\\Aravind Reddy\\Anaconda3\\lib\\site-packages\\sklearn\\metrics\\classification.py:1437: UndefinedMetricWarning: Precision and F-score are ill-defined and being set to 0.0 in labels with no predicted samples.\n",
      "  'precision', 'predicted', average, warn_for)\n"
     ]
    }
   ],
   "source": [
    "from sklearn.metrics import classification_report,confusion_matrix\n",
    "print(classification_report(y_test,predict))"
   ]
  },
  {
   "cell_type": "code",
   "execution_count": 32,
   "metadata": {},
   "outputs": [
    {
     "data": {
      "text/html": [
       "<div>\n",
       "<style scoped>\n",
       "    .dataframe tbody tr th:only-of-type {\n",
       "        vertical-align: middle;\n",
       "    }\n",
       "\n",
       "    .dataframe tbody tr th {\n",
       "        vertical-align: top;\n",
       "    }\n",
       "\n",
       "    .dataframe thead th {\n",
       "        text-align: right;\n",
       "    }\n",
       "</style>\n",
       "<table border=\"1\" class=\"dataframe\">\n",
       "  <thead>\n",
       "    <tr style=\"text-align: right;\">\n",
       "      <th></th>\n",
       "      <th>Sequence Name</th>\n",
       "      <th>mcg</th>\n",
       "      <th>gvh</th>\n",
       "      <th>alm</th>\n",
       "      <th>mit</th>\n",
       "      <th>erl</th>\n",
       "      <th>pox</th>\n",
       "      <th>vac</th>\n",
       "      <th>nuc</th>\n",
       "      <th>localization-site</th>\n",
       "    </tr>\n",
       "  </thead>\n",
       "  <tbody>\n",
       "    <tr>\n",
       "      <td>count</td>\n",
       "      <td>1483.000000</td>\n",
       "      <td>1483.000000</td>\n",
       "      <td>1483.000000</td>\n",
       "      <td>1483.000000</td>\n",
       "      <td>1483.000000</td>\n",
       "      <td>1483.000000</td>\n",
       "      <td>1483.000000</td>\n",
       "      <td>1483.000000</td>\n",
       "      <td>1483.000000</td>\n",
       "      <td>1483.000000</td>\n",
       "    </tr>\n",
       "    <tr>\n",
       "      <td>mean</td>\n",
       "      <td>731.256912</td>\n",
       "      <td>0.500067</td>\n",
       "      <td>0.499858</td>\n",
       "      <td>0.500054</td>\n",
       "      <td>0.261274</td>\n",
       "      <td>0.504720</td>\n",
       "      <td>0.007505</td>\n",
       "      <td>0.499899</td>\n",
       "      <td>0.276237</td>\n",
       "      <td>4.124747</td>\n",
       "    </tr>\n",
       "    <tr>\n",
       "      <td>std</td>\n",
       "      <td>419.782393</td>\n",
       "      <td>0.137330</td>\n",
       "      <td>0.123933</td>\n",
       "      <td>0.086696</td>\n",
       "      <td>0.137102</td>\n",
       "      <td>0.048367</td>\n",
       "      <td>0.075708</td>\n",
       "      <td>0.057814</td>\n",
       "      <td>0.106516</td>\n",
       "      <td>3.038209</td>\n",
       "    </tr>\n",
       "    <tr>\n",
       "      <td>min</td>\n",
       "      <td>0.000000</td>\n",
       "      <td>0.110000</td>\n",
       "      <td>0.130000</td>\n",
       "      <td>0.210000</td>\n",
       "      <td>0.000000</td>\n",
       "      <td>0.500000</td>\n",
       "      <td>0.000000</td>\n",
       "      <td>0.000000</td>\n",
       "      <td>0.000000</td>\n",
       "      <td>0.000000</td>\n",
       "    </tr>\n",
       "    <tr>\n",
       "      <td>25%</td>\n",
       "      <td>369.500000</td>\n",
       "      <td>0.410000</td>\n",
       "      <td>0.420000</td>\n",
       "      <td>0.460000</td>\n",
       "      <td>0.170000</td>\n",
       "      <td>0.500000</td>\n",
       "      <td>0.000000</td>\n",
       "      <td>0.480000</td>\n",
       "      <td>0.220000</td>\n",
       "      <td>0.000000</td>\n",
       "    </tr>\n",
       "    <tr>\n",
       "      <td>50%</td>\n",
       "      <td>735.000000</td>\n",
       "      <td>0.490000</td>\n",
       "      <td>0.490000</td>\n",
       "      <td>0.510000</td>\n",
       "      <td>0.220000</td>\n",
       "      <td>0.500000</td>\n",
       "      <td>0.000000</td>\n",
       "      <td>0.510000</td>\n",
       "      <td>0.220000</td>\n",
       "      <td>5.000000</td>\n",
       "    </tr>\n",
       "    <tr>\n",
       "      <td>75%</td>\n",
       "      <td>1089.500000</td>\n",
       "      <td>0.580000</td>\n",
       "      <td>0.570000</td>\n",
       "      <td>0.550000</td>\n",
       "      <td>0.320000</td>\n",
       "      <td>0.500000</td>\n",
       "      <td>0.000000</td>\n",
       "      <td>0.530000</td>\n",
       "      <td>0.300000</td>\n",
       "      <td>7.000000</td>\n",
       "    </tr>\n",
       "    <tr>\n",
       "      <td>max</td>\n",
       "      <td>1460.000000</td>\n",
       "      <td>1.000000</td>\n",
       "      <td>1.000000</td>\n",
       "      <td>1.000000</td>\n",
       "      <td>1.000000</td>\n",
       "      <td>1.000000</td>\n",
       "      <td>0.830000</td>\n",
       "      <td>0.730000</td>\n",
       "      <td>1.000000</td>\n",
       "      <td>9.000000</td>\n",
       "    </tr>\n",
       "  </tbody>\n",
       "</table>\n",
       "</div>"
      ],
      "text/plain": [
       "       Sequence Name          mcg          gvh          alm          mit  \\\n",
       "count    1483.000000  1483.000000  1483.000000  1483.000000  1483.000000   \n",
       "mean      731.256912     0.500067     0.499858     0.500054     0.261274   \n",
       "std       419.782393     0.137330     0.123933     0.086696     0.137102   \n",
       "min         0.000000     0.110000     0.130000     0.210000     0.000000   \n",
       "25%       369.500000     0.410000     0.420000     0.460000     0.170000   \n",
       "50%       735.000000     0.490000     0.490000     0.510000     0.220000   \n",
       "75%      1089.500000     0.580000     0.570000     0.550000     0.320000   \n",
       "max      1460.000000     1.000000     1.000000     1.000000     1.000000   \n",
       "\n",
       "               erl          pox          vac          nuc  localization-site  \n",
       "count  1483.000000  1483.000000  1483.000000  1483.000000        1483.000000  \n",
       "mean      0.504720     0.007505     0.499899     0.276237           4.124747  \n",
       "std       0.048367     0.075708     0.057814     0.106516           3.038209  \n",
       "min       0.500000     0.000000     0.000000     0.000000           0.000000  \n",
       "25%       0.500000     0.000000     0.480000     0.220000           0.000000  \n",
       "50%       0.500000     0.000000     0.510000     0.220000           5.000000  \n",
       "75%       0.500000     0.000000     0.530000     0.300000           7.000000  \n",
       "max       1.000000     0.830000     0.730000     1.000000           9.000000  "
      ]
     },
     "execution_count": 32,
     "metadata": {},
     "output_type": "execute_result"
    }
   ],
   "source": [
    "data.describe()"
   ]
  },
  {
   "cell_type": "code",
   "execution_count": null,
   "metadata": {},
   "outputs": [],
   "source": []
  },
  {
   "cell_type": "code",
   "execution_count": null,
   "metadata": {},
   "outputs": [],
   "source": []
  },
  {
   "cell_type": "code",
   "execution_count": null,
   "metadata": {},
   "outputs": [],
   "source": []
  },
  {
   "cell_type": "code",
   "execution_count": 110,
   "metadata": {},
   "outputs": [
    {
     "ename": "TypeError",
     "evalue": "fit_transform() missing 1 required positional argument: 'X'",
     "output_type": "error",
     "traceback": [
      "\u001b[1;31m---------------------------------------------------------------------------\u001b[0m",
      "\u001b[1;31mTypeError\u001b[0m                                 Traceback (most recent call last)",
      "\u001b[1;32m<ipython-input-110-5df32e00c167>\u001b[0m in \u001b[0;36m<module>\u001b[1;34m\u001b[0m\n\u001b[1;32m----> 1\u001b[1;33m \u001b[0mStandardScaler\u001b[0m\u001b[1;33m.\u001b[0m\u001b[0mfit_transform\u001b[0m\u001b[1;33m(\u001b[0m\u001b[0mdata\u001b[0m\u001b[1;33m,\u001b[0m\u001b[0my\u001b[0m\u001b[1;33m=\u001b[0m\u001b[1;32mNone\u001b[0m\u001b[1;33m)\u001b[0m\u001b[1;33m\u001b[0m\u001b[1;33m\u001b[0m\u001b[0m\n\u001b[0m",
      "\u001b[1;31mTypeError\u001b[0m: fit_transform() missing 1 required positional argument: 'X'"
     ]
    }
   ],
   "source": []
  },
  {
   "cell_type": "code",
   "execution_count": 33,
   "metadata": {},
   "outputs": [
    {
     "data": {
      "text/plain": [
       "Sequence Name        731.256912\n",
       "mcg                    0.500067\n",
       "gvh                    0.499858\n",
       "alm                    0.500054\n",
       "mit                    0.261274\n",
       "erl                    0.504720\n",
       "pox                    0.007505\n",
       "vac                    0.499899\n",
       "nuc                    0.276237\n",
       "localization-site      4.124747\n",
       "dtype: float64"
      ]
     },
     "execution_count": 33,
     "metadata": {},
     "output_type": "execute_result"
    }
   ],
   "source": [
    "data.mean()"
   ]
  },
  {
   "cell_type": "code",
   "execution_count": 67,
   "metadata": {},
   "outputs": [
    {
     "data": {
      "text/plain": [
       "Text(0, 0.5, 'Error')"
      ]
     },
     "execution_count": 67,
     "metadata": {},
     "output_type": "execute_result"
    },
    {
     "data": {
      "image/png": "[encoded data removed]",
      "text/plain": [
       "<Figure size 432x288 with 1 Axes>"
      ]
     },
     "metadata": {
      "needs_background": "light"
     },
     "output_type": "display_data"
    }
   ],
   "source": [
    "neighbors={'n_neighbors':np.array(range(9,20,2))}\n",
    "knn_error = []\n",
    "\n",
    "\n",
    "for i in range(2,10):\n",
    "    knn = KNeighborsClassifier(n_neighbors=i,)\n",
    "    knn.fit(X_train,y_train)\n",
    "    knn_predict= knn.predict(X_test)\n",
    "    #print(type(knn_predict))\n",
    "      #print(type(y_test))\n",
    "    knn_error.append(np.mean(y_test!=knn_predict))\n",
    "\n",
    "plt.plot(range(2,10),knn_error)\n",
    "plt.xlabel(\"K value\")\n",
    "plt.ylabel(\"Error\")\n",
    "# for neightbout in range(5,15):\n",
    "#     knn_grid=KNeighborsClassifier(n_neighbors=neightbout)\n",
    "#     knn_grid.fit(X_train,y_train)\n",
    "#     print(knn_grid.score)\n",
    "#     #plt.plot(neightbout)\n",
    "#     knn_predict = knn_grid.predict(X_test)\n",
    "    \n"
   ]
  },
  {
   "cell_type": "code",
   "execution_count": 57,
   "metadata": {},
   "outputs": [
    {
     "name": "stdout",
     "output_type": "stream",
     "text": [
      "[[94  0  0  1  0  1 12 24  1  0]\n",
      " [ 4  0  0  0  0  0  0  0  0  0]\n",
      " [ 3  0  9  1  1  0  0  0  0  0]\n",
      " [ 0  0  0 13  1  0  0  0  0  0]\n",
      " [ 3  0  3  4  1  2  3  0  0  0]\n",
      " [ 5  0  0  0  1 34  1  3  0  0]\n",
      " [26  0  0  0  1  2 41  4  0  0]\n",
      " [58  0  1  0  0  6  7 56  0  0]\n",
      " [ 1  0  0  0  0  0  2  0  2  0]\n",
      " [ 6  0  1  2  0  3  0  1  0  0]]\n",
      "              precision    recall  f1-score   support\n",
      "\n",
      "           0       0.47      0.71      0.56       133\n",
      "           1       0.00      0.00      0.00         4\n",
      "           2       0.64      0.64      0.64        14\n",
      "           3       0.62      0.93      0.74        14\n",
      "           4       0.20      0.06      0.10        16\n",
      "           5       0.71      0.77      0.74        44\n",
      "           6       0.62      0.55      0.59        74\n",
      "           7       0.64      0.44      0.52       128\n",
      "           8       0.67      0.40      0.50         5\n",
      "           9       0.00      0.00      0.00        13\n",
      "\n",
      "    accuracy                           0.56       445\n",
      "   macro avg       0.46      0.45      0.44       445\n",
      "weighted avg       0.55      0.56      0.54       445\n",
      "\n"
     ]
    },
    {
     "name": "stderr",
     "output_type": "stream",
     "text": [
      "C:\\Users\\Aravind Reddy\\Anaconda3\\lib\\site-packages\\sklearn\\metrics\\classification.py:1437: UndefinedMetricWarning: Precision and F-score are ill-defined and being set to 0.0 in labels with no predicted samples.\n",
      "  'precision', 'predicted', average, warn_for)\n"
     ]
    }
   ],
   "source": [
    "printaccuracy(y_test,knn_predict)"
   ]
  },
  {
   "cell_type": "code",
   "execution_count": 39,
   "metadata": {},
   "outputs": [],
   "source": [
    "def printaccuracy(y_test,predict):\n",
    "    print(confusion_matrix(y_test,predict))\n",
    "    print(classification_report(y_test,predict))"
   ]
  },
  {
   "cell_type": "code",
   "execution_count": 41,
   "metadata": {},
   "outputs": [],
   "source": [
    "def normalizedata(X):\n",
    "    SS = StandardScaler()\n",
    "    X = SS.fit_transform(X)\n",
    "    print(\"Normalization done\")"
   ]
  },
  {
   "cell_type": "code",
   "execution_count": 43,
   "metadata": {},
   "outputs": [],
   "source": [
    "svm = SVC(kernel='rbf',random_state=0)"
   ]
  },
  {
   "cell_type": "code",
   "execution_count": 45,
   "metadata": {},
   "outputs": [],
   "source": [
    "params = { 'C' : np.logspace(0, 3, 4), 'gamma' : np.logspace(-2, 1, 4)}\n",
    "svm_grid = GridSearchCV(svm, params, verbose=1, cv=3,return_train_score=True)"
   ]
  },
  {
   "cell_type": "code",
   "execution_count": 48,
   "metadata": {},
   "outputs": [
    {
     "name": "stdout",
     "output_type": "stream",
     "text": [
      "Fitting 3 folds for each of 16 candidates, totalling 48 fits\n"
     ]
    },
    {
     "name": "stderr",
     "output_type": "stream",
     "text": [
      "C:\\Users\\Aravind Reddy\\Anaconda3\\lib\\site-packages\\sklearn\\model_selection\\_split.py:657: Warning: The least populated class in y has only 1 members, which is too few. The minimum number of members in any class cannot be less than n_splits=3.\n",
      "  % (min_groups, self.n_splits)), Warning)\n",
      "[Parallel(n_jobs=1)]: Using backend SequentialBackend with 1 concurrent workers.\n"
     ]
    },
    {
     "name": "stdout",
     "output_type": "stream",
     "text": [
      "[[87  0  0  1  1  2  7 34  1  0]\n",
      " [ 0  3  0  0  0  0  0  1  0  0]\n",
      " [ 2  0  9  1  1  0  1  0  0  0]\n",
      " [ 0  0  0 11  3  0  0  0  0  0]\n",
      " [ 3  0  3  3  5  1  1  0  0  0]\n",
      " [ 4  0  0  1  1 34  1  3  0  0]\n",
      " [23  0  1  0  1  2 39  8  0  0]\n",
      " [53  0  1  0  0  6  5 63  0  0]\n",
      " [ 1  0  0  0  0  1  1  0  2  0]\n",
      " [ 6  0  1  0  0  4  1  1  0  0]]\n",
      "              precision    recall  f1-score   support\n",
      "\n",
      "           0       0.49      0.65      0.56       133\n",
      "           1       1.00      0.75      0.86         4\n",
      "           2       0.60      0.64      0.62        14\n",
      "           3       0.65      0.79      0.71        14\n",
      "           4       0.42      0.31      0.36        16\n",
      "           5       0.68      0.77      0.72        44\n",
      "           6       0.70      0.53      0.60        74\n",
      "           7       0.57      0.49      0.53       128\n",
      "           8       0.67      0.40      0.50         5\n",
      "           9       0.00      0.00      0.00        13\n",
      "\n",
      "    accuracy                           0.57       445\n",
      "   macro avg       0.58      0.53      0.55       445\n",
      "weighted avg       0.56      0.57      0.56       445\n",
      "\n"
     ]
    },
    {
     "name": "stderr",
     "output_type": "stream",
     "text": [
      "[Parallel(n_jobs=1)]: Done  48 out of  48 | elapsed:    6.6s finished\n",
      "C:\\Users\\Aravind Reddy\\Anaconda3\\lib\\site-packages\\sklearn\\metrics\\classification.py:1437: UndefinedMetricWarning: Precision and F-score are ill-defined and being set to 0.0 in labels with no predicted samples.\n",
      "  'precision', 'predicted', average, warn_for)\n"
     ]
    }
   ],
   "source": [
    "svm_grid.fit(X_train,y_train)\n",
    "svm_predict = svm_grid.predict(X_test)\n",
    "svm_grid.best_params_\n",
    "svm_grid.best_score_\n",
    "printaccuracy(y_test,svm_predict)"
   ]
  },
  {
   "cell_type": "code",
   "execution_count": 68,
   "metadata": {},
   "outputs": [
    {
     "name": "stdout",
     "output_type": "stream",
     "text": [
      "[[67  0  0  1  3  4 17 34  3  4]\n",
      " [ 0  0  1  0  1  0  1  0  1  0]\n",
      " [ 4  0  7  2  0  0  0  1  0  0]\n",
      " [ 0  0  0  9  3  0  2  0  0  0]\n",
      " [ 1  0  1  2  3  3  3  2  1  0]\n",
      " [ 5  0  0  0  0 32  2  4  0  1]\n",
      " [17  0  1  0  2  3 37 12  1  1]\n",
      " [52  0  0  0  0  7  4 62  2  1]\n",
      " [ 1  0  0  0  0  0  2  0  2  0]\n",
      " [ 2  0  1  0  0  2  3  2  0  3]]\n",
      "              precision    recall  f1-score   support\n",
      "\n",
      "           0       0.45      0.50      0.48       133\n",
      "           1       0.00      0.00      0.00         4\n",
      "           2       0.64      0.50      0.56        14\n",
      "           3       0.64      0.64      0.64        14\n",
      "           4       0.25      0.19      0.21        16\n",
      "           5       0.63      0.73      0.67        44\n",
      "           6       0.52      0.50      0.51        74\n",
      "           7       0.53      0.48      0.51       128\n",
      "           8       0.20      0.40      0.27         5\n",
      "           9       0.30      0.23      0.26        13\n",
      "\n",
      "    accuracy                           0.50       445\n",
      "   macro avg       0.42      0.42      0.41       445\n",
      "weighted avg       0.50      0.50      0.50       445\n",
      "\n"
     ]
    },
    {
     "name": "stderr",
     "output_type": "stream",
     "text": [
      "C:\\Users\\Aravind Reddy\\Anaconda3\\lib\\site-packages\\sklearn\\metrics\\classification.py:1437: UndefinedMetricWarning: Precision and F-score are ill-defined and being set to 0.0 in labels with no predicted samples.\n",
      "  'precision', 'predicted', average, warn_for)\n"
     ]
    }
   ],
   "source": [
    "dt = DecisionTreeClassifier()\n",
    "dt.fit(X_train,y_train)\n",
    "dt_predict = dt.predict(X_test)\n",
    "printaccuracy(y_test,dt_predict)"
   ]
  },
  {
   "cell_type": "code",
   "execution_count": 69,
   "metadata": {},
   "outputs": [
    {
     "name": "stdout",
     "output_type": "stream",
     "text": [
      "Fitting 2 folds for each of 81 candidates, totalling 162 fits\n"
     ]
    },
    {
     "name": "stderr",
     "output_type": "stream",
     "text": [
      "C:\\Users\\Aravind Reddy\\Anaconda3\\lib\\site-packages\\sklearn\\model_selection\\_split.py:657: Warning: The least populated class in y has only 1 members, which is too few. The minimum number of members in any class cannot be less than n_splits=2.\n",
      "  % (min_groups, self.n_splits)), Warning)\n",
      "[Parallel(n_jobs=1)]: Using backend SequentialBackend with 1 concurrent workers.\n",
      "[Parallel(n_jobs=1)]: Done 162 out of 162 | elapsed:    8.2s finished\n"
     ]
    },
    {
     "name": "stdout",
     "output_type": "stream",
     "text": [
      "[[99  0  0  1  1  2  6 23  1  0]\n",
      " [ 0  0  3  0  1  0  0  0  0  0]\n",
      " [ 3  0  8  2  1  0  0  0  0  0]\n",
      " [ 0  0  0 13  1  0  0  0  0  0]\n",
      " [ 0  0  2  2  4  3  3  2  0  0]\n",
      " [ 2  0  0  0  0 41  0  1  0  0]\n",
      " [22  0  0  0  1  4 40  7  0  0]\n",
      " [41  0  0  0  0  5  8 74  0  0]\n",
      " [ 1  0  0  0  0  0  2  0  2  0]\n",
      " [ 6  0  1  1  0  4  0  1  0  0]]\n",
      "              precision    recall  f1-score   support\n",
      "\n",
      "           0       0.57      0.74      0.64       133\n",
      "           1       0.00      0.00      0.00         4\n",
      "           2       0.57      0.57      0.57        14\n",
      "           3       0.68      0.93      0.79        14\n",
      "           4       0.44      0.25      0.32        16\n",
      "           5       0.69      0.93      0.80        44\n",
      "           6       0.68      0.54      0.60        74\n",
      "           7       0.69      0.58      0.63       128\n",
      "           8       0.67      0.40      0.50         5\n",
      "           9       0.00      0.00      0.00        13\n",
      "\n",
      "    accuracy                           0.63       445\n",
      "   macro avg       0.50      0.49      0.48       445\n",
      "weighted avg       0.61      0.63      0.61       445\n",
      "\n"
     ]
    },
    {
     "name": "stderr",
     "output_type": "stream",
     "text": [
      "C:\\Users\\Aravind Reddy\\Anaconda3\\lib\\site-packages\\sklearn\\metrics\\classification.py:1437: UndefinedMetricWarning: Precision and F-score are ill-defined and being set to 0.0 in labels with no predicted samples.\n",
      "  'precision', 'predicted', average, warn_for)\n"
     ]
    }
   ],
   "source": [
    "rf = RandomForestClassifier()\n",
    "params = { 'n_estimators' : np.arange(10,100,10), 'max_depth' : np.arange(5,50,5)}\n",
    "rf_grid = GridSearchCV(rf, params, verbose=1, cv=2)\n",
    "rf_grid.fit(X_train,y_train)\n",
    "rf_predict = rf_grid.predict(X_test)\n",
    "printaccuracy(y_test,rf_predict)\n"
   ]
  },
  {
   "cell_type": "code",
   "execution_count": 71,
   "metadata": {},
   "outputs": [
    {
     "name": "stdout",
     "output_type": "stream",
     "text": [
      "Fitting 3 folds for each of 9 candidates, totalling 27 fits\n"
     ]
    },
    {
     "name": "stderr",
     "output_type": "stream",
     "text": [
      "C:\\Users\\Aravind Reddy\\Anaconda3\\lib\\site-packages\\sklearn\\model_selection\\_split.py:657: Warning: The least populated class in y has only 1 members, which is too few. The minimum number of members in any class cannot be less than n_splits=3.\n",
      "  % (min_groups, self.n_splits)), Warning)\n",
      "[Parallel(n_jobs=1)]: Using backend SequentialBackend with 1 concurrent workers.\n"
     ]
    },
    {
     "name": "stdout",
     "output_type": "stream",
     "text": [
      "[[127   0   4   0   0   2   0   0   0   0]\n",
      " [  0   0   0   0   0   0   0   4   0   0]\n",
      " [  2   0   8   3   0   1   0   0   0   0]\n",
      " [  0   0   2   9   0   3   0   0   0   0]\n",
      " [  1   0   5   5   0   5   0   0   0   0]\n",
      " [  3   0   0   0   0  41   0   0   0   0]\n",
      " [ 66   0   1   0   0   7   0   0   0   0]\n",
      " [120   0   1   0   0   7   0   0   0   0]\n",
      " [  5   0   0   0   0   0   0   0   0   0]\n",
      " [  7   0   1   0   0   5   0   0   0   0]]\n",
      "              precision    recall  f1-score   support\n",
      "\n",
      "           0       0.38      0.95      0.55       133\n",
      "           1       0.00      0.00      0.00         4\n",
      "           2       0.36      0.57      0.44        14\n",
      "           3       0.53      0.64      0.58        14\n",
      "           4       0.00      0.00      0.00        16\n",
      "           5       0.58      0.93      0.71        44\n",
      "           6       0.00      0.00      0.00        74\n",
      "           7       0.00      0.00      0.00       128\n",
      "           8       0.00      0.00      0.00         5\n",
      "           9       0.00      0.00      0.00        13\n",
      "\n",
      "    accuracy                           0.42       445\n",
      "   macro avg       0.19      0.31      0.23       445\n",
      "weighted avg       0.20      0.42      0.27       445\n",
      "\n"
     ]
    },
    {
     "name": "stderr",
     "output_type": "stream",
     "text": [
      "[Parallel(n_jobs=1)]: Done  27 out of  27 | elapsed:    1.5s finished\n",
      "C:\\Users\\Aravind Reddy\\Anaconda3\\lib\\site-packages\\sklearn\\metrics\\classification.py:1437: UndefinedMetricWarning: Precision and F-score are ill-defined and being set to 0.0 in labels with no predicted samples.\n",
      "  'precision', 'predicted', average, warn_for)\n"
     ]
    }
   ],
   "source": [
    "ab = AdaBoostClassifier()\n",
    "params = { 'n_estimators' : np.arange(10,100,10)}\n",
    "ab_grid = GridSearchCV(ab, params, verbose=1, cv=3)\n",
    "ab_grid.fit(X_train,y_train)\n",
    "ab_predict = ab_grid.predict(X_test)\n",
    "printaccuracy(y_test,ab_predict)\n"
   ]
  },
  {
   "cell_type": "code",
   "execution_count": 73,
   "metadata": {},
   "outputs": [
    {
     "name": "stdout",
     "output_type": "stream",
     "text": [
      "[[  1   0  12   0  12   0   1   3   1 103]\n",
      " [  4   0   0   0   0   0   0   0   0   0]\n",
      " [  0   0  10   1   2   0   0   0   0   1]\n",
      " [  0   0   1  10   3   0   0   0   0   0]\n",
      " [  1   0   3   5   6   0   0   0   0   1]\n",
      " [  0   0   0   1   9   0   0   1   0  33]\n",
      " [  0   0   9   0  37   0   1   0   0  27]\n",
      " [  0   0  12   1   8   0   0  14   0  93]\n",
      " [  0   0   0   0   1   0   0   0   2   2]\n",
      " [  0   0   2   0   4   0   0   0   0   7]]\n",
      "              precision    recall  f1-score   support\n",
      "\n",
      "           0       0.17      0.01      0.01       133\n",
      "           1       0.00      0.00      0.00         4\n",
      "           2       0.20      0.71      0.32        14\n",
      "           3       0.56      0.71      0.63        14\n",
      "           4       0.07      0.38      0.12        16\n",
      "           5       0.00      0.00      0.00        44\n",
      "           6       0.50      0.01      0.03        74\n",
      "           7       0.78      0.11      0.19       128\n",
      "           8       0.67      0.40      0.50         5\n",
      "           9       0.03      0.54      0.05        13\n",
      "\n",
      "    accuracy                           0.11       445\n",
      "   macro avg       0.30      0.29      0.18       445\n",
      "weighted avg       0.39      0.11      0.10       445\n",
      "\n"
     ]
    },
    {
     "name": "stderr",
     "output_type": "stream",
     "text": [
      "C:\\Users\\Aravind Reddy\\Anaconda3\\lib\\site-packages\\sklearn\\metrics\\classification.py:1437: UndefinedMetricWarning: Precision and F-score are ill-defined and being set to 0.0 in labels with no predicted samples.\n",
      "  'precision', 'predicted', average, warn_for)\n"
     ]
    }
   ],
   "source": [
    "gnb = GaussianNB()\n",
    "gnb.fit(X_train,y_train)\n",
    "gnb_predict = gnb.predict(X_test)\n",
    "printaccuracy(y_test,gnb_predict)\n"
   ]
  },
  {
   "cell_type": "code",
   "execution_count": 75,
   "metadata": {},
   "outputs": [
    {
     "name": "stderr",
     "output_type": "stream",
     "text": [
      "C:\\Users\\Aravind Reddy\\Anaconda3\\lib\\site-packages\\sklearn\\model_selection\\_split.py:657: Warning: The least populated class in y has only 1 members, which is too few. The minimum number of members in any class cannot be less than n_splits=3.\n",
      "  % (min_groups, self.n_splits)), Warning)\n",
      "C:\\Users\\Aravind Reddy\\Anaconda3\\lib\\site-packages\\sklearn\\neural_network\\multilayer_perceptron.py:566: ConvergenceWarning: Stochastic Optimizer: Maximum iterations (200) reached and the optimization hasn't converged yet.\n",
      "  % self.max_iter, ConvergenceWarning)\n",
      "C:\\Users\\Aravind Reddy\\Anaconda3\\lib\\site-packages\\sklearn\\neural_network\\multilayer_perceptron.py:566: ConvergenceWarning: Stochastic Optimizer: Maximum iterations (200) reached and the optimization hasn't converged yet.\n",
      "  % self.max_iter, ConvergenceWarning)\n",
      "C:\\Users\\Aravind Reddy\\Anaconda3\\lib\\site-packages\\sklearn\\neural_network\\multilayer_perceptron.py:566: ConvergenceWarning: Stochastic Optimizer: Maximum iterations (200) reached and the optimization hasn't converged yet.\n",
      "  % self.max_iter, ConvergenceWarning)\n",
      "C:\\Users\\Aravind Reddy\\Anaconda3\\lib\\site-packages\\sklearn\\neural_network\\multilayer_perceptron.py:566: ConvergenceWarning: Stochastic Optimizer: Maximum iterations (250) reached and the optimization hasn't converged yet.\n",
      "  % self.max_iter, ConvergenceWarning)\n",
      "C:\\Users\\Aravind Reddy\\Anaconda3\\lib\\site-packages\\sklearn\\neural_network\\multilayer_perceptron.py:566: ConvergenceWarning: Stochastic Optimizer: Maximum iterations (250) reached and the optimization hasn't converged yet.\n",
      "  % self.max_iter, ConvergenceWarning)\n",
      "C:\\Users\\Aravind Reddy\\Anaconda3\\lib\\site-packages\\sklearn\\neural_network\\multilayer_perceptron.py:566: ConvergenceWarning: Stochastic Optimizer: Maximum iterations (250) reached and the optimization hasn't converged yet.\n",
      "  % self.max_iter, ConvergenceWarning)\n",
      "C:\\Users\\Aravind Reddy\\Anaconda3\\lib\\site-packages\\sklearn\\neural_network\\multilayer_perceptron.py:566: ConvergenceWarning: Stochastic Optimizer: Maximum iterations (200) reached and the optimization hasn't converged yet.\n",
      "  % self.max_iter, ConvergenceWarning)\n",
      "C:\\Users\\Aravind Reddy\\Anaconda3\\lib\\site-packages\\sklearn\\neural_network\\multilayer_perceptron.py:566: ConvergenceWarning: Stochastic Optimizer: Maximum iterations (200) reached and the optimization hasn't converged yet.\n",
      "  % self.max_iter, ConvergenceWarning)\n",
      "C:\\Users\\Aravind Reddy\\Anaconda3\\lib\\site-packages\\sklearn\\neural_network\\multilayer_perceptron.py:566: ConvergenceWarning: Stochastic Optimizer: Maximum iterations (200) reached and the optimization hasn't converged yet.\n",
      "  % self.max_iter, ConvergenceWarning)\n",
      "C:\\Users\\Aravind Reddy\\Anaconda3\\lib\\site-packages\\sklearn\\neural_network\\multilayer_perceptron.py:566: ConvergenceWarning: Stochastic Optimizer: Maximum iterations (250) reached and the optimization hasn't converged yet.\n",
      "  % self.max_iter, ConvergenceWarning)\n",
      "C:\\Users\\Aravind Reddy\\Anaconda3\\lib\\site-packages\\sklearn\\neural_network\\multilayer_perceptron.py:566: ConvergenceWarning: Stochastic Optimizer: Maximum iterations (250) reached and the optimization hasn't converged yet.\n",
      "  % self.max_iter, ConvergenceWarning)\n",
      "C:\\Users\\Aravind Reddy\\Anaconda3\\lib\\site-packages\\sklearn\\neural_network\\multilayer_perceptron.py:566: ConvergenceWarning: Stochastic Optimizer: Maximum iterations (250) reached and the optimization hasn't converged yet.\n",
      "  % self.max_iter, ConvergenceWarning)\n",
      "C:\\Users\\Aravind Reddy\\Anaconda3\\lib\\site-packages\\sklearn\\neural_network\\multilayer_perceptron.py:566: ConvergenceWarning: Stochastic Optimizer: Maximum iterations (200) reached and the optimization hasn't converged yet.\n",
      "  % self.max_iter, ConvergenceWarning)\n",
      "C:\\Users\\Aravind Reddy\\Anaconda3\\lib\\site-packages\\sklearn\\neural_network\\multilayer_perceptron.py:566: ConvergenceWarning: Stochastic Optimizer: Maximum iterations (200) reached and the optimization hasn't converged yet.\n",
      "  % self.max_iter, ConvergenceWarning)\n",
      "C:\\Users\\Aravind Reddy\\Anaconda3\\lib\\site-packages\\sklearn\\neural_network\\multilayer_perceptron.py:566: ConvergenceWarning: Stochastic Optimizer: Maximum iterations (200) reached and the optimization hasn't converged yet.\n",
      "  % self.max_iter, ConvergenceWarning)\n",
      "C:\\Users\\Aravind Reddy\\Anaconda3\\lib\\site-packages\\sklearn\\neural_network\\multilayer_perceptron.py:566: ConvergenceWarning: Stochastic Optimizer: Maximum iterations (250) reached and the optimization hasn't converged yet.\n",
      "  % self.max_iter, ConvergenceWarning)\n",
      "C:\\Users\\Aravind Reddy\\Anaconda3\\lib\\site-packages\\sklearn\\neural_network\\multilayer_perceptron.py:566: ConvergenceWarning: Stochastic Optimizer: Maximum iterations (250) reached and the optimization hasn't converged yet.\n",
      "  % self.max_iter, ConvergenceWarning)\n",
      "C:\\Users\\Aravind Reddy\\Anaconda3\\lib\\site-packages\\sklearn\\neural_network\\multilayer_perceptron.py:566: ConvergenceWarning: Stochastic Optimizer: Maximum iterations (250) reached and the optimization hasn't converged yet.\n",
      "  % self.max_iter, ConvergenceWarning)\n",
      "C:\\Users\\Aravind Reddy\\Anaconda3\\lib\\site-packages\\sklearn\\neural_network\\multilayer_perceptron.py:566: ConvergenceWarning: Stochastic Optimizer: Maximum iterations (200) reached and the optimization hasn't converged yet.\n",
      "  % self.max_iter, ConvergenceWarning)\n",
      "C:\\Users\\Aravind Reddy\\Anaconda3\\lib\\site-packages\\sklearn\\neural_network\\multilayer_perceptron.py:566: ConvergenceWarning: Stochastic Optimizer: Maximum iterations (200) reached and the optimization hasn't converged yet.\n",
      "  % self.max_iter, ConvergenceWarning)\n",
      "C:\\Users\\Aravind Reddy\\Anaconda3\\lib\\site-packages\\sklearn\\neural_network\\multilayer_perceptron.py:566: ConvergenceWarning: Stochastic Optimizer: Maximum iterations (200) reached and the optimization hasn't converged yet.\n",
      "  % self.max_iter, ConvergenceWarning)\n",
      "C:\\Users\\Aravind Reddy\\Anaconda3\\lib\\site-packages\\sklearn\\neural_network\\multilayer_perceptron.py:566: ConvergenceWarning: Stochastic Optimizer: Maximum iterations (250) reached and the optimization hasn't converged yet.\n",
      "  % self.max_iter, ConvergenceWarning)\n",
      "C:\\Users\\Aravind Reddy\\Anaconda3\\lib\\site-packages\\sklearn\\neural_network\\multilayer_perceptron.py:566: ConvergenceWarning: Stochastic Optimizer: Maximum iterations (250) reached and the optimization hasn't converged yet.\n",
      "  % self.max_iter, ConvergenceWarning)\n",
      "C:\\Users\\Aravind Reddy\\Anaconda3\\lib\\site-packages\\sklearn\\neural_network\\multilayer_perceptron.py:566: ConvergenceWarning: Stochastic Optimizer: Maximum iterations (250) reached and the optimization hasn't converged yet.\n",
      "  % self.max_iter, ConvergenceWarning)\n",
      "C:\\Users\\Aravind Reddy\\Anaconda3\\lib\\site-packages\\sklearn\\neural_network\\multilayer_perceptron.py:566: ConvergenceWarning: Stochastic Optimizer: Maximum iterations (200) reached and the optimization hasn't converged yet.\n",
      "  % self.max_iter, ConvergenceWarning)\n",
      "C:\\Users\\Aravind Reddy\\Anaconda3\\lib\\site-packages\\sklearn\\neural_network\\multilayer_perceptron.py:566: ConvergenceWarning: Stochastic Optimizer: Maximum iterations (200) reached and the optimization hasn't converged yet.\n",
      "  % self.max_iter, ConvergenceWarning)\n",
      "C:\\Users\\Aravind Reddy\\Anaconda3\\lib\\site-packages\\sklearn\\neural_network\\multilayer_perceptron.py:566: ConvergenceWarning: Stochastic Optimizer: Maximum iterations (200) reached and the optimization hasn't converged yet.\n",
      "  % self.max_iter, ConvergenceWarning)\n",
      "C:\\Users\\Aravind Reddy\\Anaconda3\\lib\\site-packages\\sklearn\\neural_network\\multilayer_perceptron.py:566: ConvergenceWarning: Stochastic Optimizer: Maximum iterations (250) reached and the optimization hasn't converged yet.\n",
      "  % self.max_iter, ConvergenceWarning)\n",
      "C:\\Users\\Aravind Reddy\\Anaconda3\\lib\\site-packages\\sklearn\\neural_network\\multilayer_perceptron.py:566: ConvergenceWarning: Stochastic Optimizer: Maximum iterations (250) reached and the optimization hasn't converged yet.\n",
      "  % self.max_iter, ConvergenceWarning)\n",
      "C:\\Users\\Aravind Reddy\\Anaconda3\\lib\\site-packages\\sklearn\\neural_network\\multilayer_perceptron.py:566: ConvergenceWarning: Stochastic Optimizer: Maximum iterations (250) reached and the optimization hasn't converged yet.\n",
      "  % self.max_iter, ConvergenceWarning)\n",
      "C:\\Users\\Aravind Reddy\\Anaconda3\\lib\\site-packages\\sklearn\\neural_network\\multilayer_perceptron.py:566: ConvergenceWarning: Stochastic Optimizer: Maximum iterations (200) reached and the optimization hasn't converged yet.\n",
      "  % self.max_iter, ConvergenceWarning)\n"
     ]
    },
    {
     "name": "stderr",
     "output_type": "stream",
     "text": [
      "C:\\Users\\Aravind Reddy\\Anaconda3\\lib\\site-packages\\sklearn\\neural_network\\multilayer_perceptron.py:566: ConvergenceWarning: Stochastic Optimizer: Maximum iterations (200) reached and the optimization hasn't converged yet.\n",
      "  % self.max_iter, ConvergenceWarning)\n",
      "C:\\Users\\Aravind Reddy\\Anaconda3\\lib\\site-packages\\sklearn\\neural_network\\multilayer_perceptron.py:566: ConvergenceWarning: Stochastic Optimizer: Maximum iterations (200) reached and the optimization hasn't converged yet.\n",
      "  % self.max_iter, ConvergenceWarning)\n",
      "C:\\Users\\Aravind Reddy\\Anaconda3\\lib\\site-packages\\sklearn\\neural_network\\multilayer_perceptron.py:566: ConvergenceWarning: Stochastic Optimizer: Maximum iterations (250) reached and the optimization hasn't converged yet.\n",
      "  % self.max_iter, ConvergenceWarning)\n",
      "C:\\Users\\Aravind Reddy\\Anaconda3\\lib\\site-packages\\sklearn\\neural_network\\multilayer_perceptron.py:566: ConvergenceWarning: Stochastic Optimizer: Maximum iterations (250) reached and the optimization hasn't converged yet.\n",
      "  % self.max_iter, ConvergenceWarning)\n",
      "C:\\Users\\Aravind Reddy\\Anaconda3\\lib\\site-packages\\sklearn\\neural_network\\multilayer_perceptron.py:566: ConvergenceWarning: Stochastic Optimizer: Maximum iterations (250) reached and the optimization hasn't converged yet.\n",
      "  % self.max_iter, ConvergenceWarning)\n",
      "C:\\Users\\Aravind Reddy\\Anaconda3\\lib\\site-packages\\sklearn\\neural_network\\multilayer_perceptron.py:566: ConvergenceWarning: Stochastic Optimizer: Maximum iterations (200) reached and the optimization hasn't converged yet.\n",
      "  % self.max_iter, ConvergenceWarning)\n",
      "C:\\Users\\Aravind Reddy\\Anaconda3\\lib\\site-packages\\sklearn\\neural_network\\multilayer_perceptron.py:566: ConvergenceWarning: Stochastic Optimizer: Maximum iterations (200) reached and the optimization hasn't converged yet.\n",
      "  % self.max_iter, ConvergenceWarning)\n",
      "C:\\Users\\Aravind Reddy\\Anaconda3\\lib\\site-packages\\sklearn\\neural_network\\multilayer_perceptron.py:566: ConvergenceWarning: Stochastic Optimizer: Maximum iterations (200) reached and the optimization hasn't converged yet.\n",
      "  % self.max_iter, ConvergenceWarning)\n",
      "C:\\Users\\Aravind Reddy\\Anaconda3\\lib\\site-packages\\sklearn\\neural_network\\multilayer_perceptron.py:566: ConvergenceWarning: Stochastic Optimizer: Maximum iterations (250) reached and the optimization hasn't converged yet.\n",
      "  % self.max_iter, ConvergenceWarning)\n",
      "C:\\Users\\Aravind Reddy\\Anaconda3\\lib\\site-packages\\sklearn\\neural_network\\multilayer_perceptron.py:566: ConvergenceWarning: Stochastic Optimizer: Maximum iterations (250) reached and the optimization hasn't converged yet.\n",
      "  % self.max_iter, ConvergenceWarning)\n",
      "C:\\Users\\Aravind Reddy\\Anaconda3\\lib\\site-packages\\sklearn\\neural_network\\multilayer_perceptron.py:566: ConvergenceWarning: Stochastic Optimizer: Maximum iterations (250) reached and the optimization hasn't converged yet.\n",
      "  % self.max_iter, ConvergenceWarning)\n",
      "C:\\Users\\Aravind Reddy\\Anaconda3\\lib\\site-packages\\sklearn\\neural_network\\multilayer_perceptron.py:566: ConvergenceWarning: Stochastic Optimizer: Maximum iterations (200) reached and the optimization hasn't converged yet.\n",
      "  % self.max_iter, ConvergenceWarning)\n",
      "C:\\Users\\Aravind Reddy\\Anaconda3\\lib\\site-packages\\sklearn\\neural_network\\multilayer_perceptron.py:566: ConvergenceWarning: Stochastic Optimizer: Maximum iterations (200) reached and the optimization hasn't converged yet.\n",
      "  % self.max_iter, ConvergenceWarning)\n",
      "C:\\Users\\Aravind Reddy\\Anaconda3\\lib\\site-packages\\sklearn\\neural_network\\multilayer_perceptron.py:566: ConvergenceWarning: Stochastic Optimizer: Maximum iterations (200) reached and the optimization hasn't converged yet.\n",
      "  % self.max_iter, ConvergenceWarning)\n",
      "C:\\Users\\Aravind Reddy\\Anaconda3\\lib\\site-packages\\sklearn\\neural_network\\multilayer_perceptron.py:566: ConvergenceWarning: Stochastic Optimizer: Maximum iterations (250) reached and the optimization hasn't converged yet.\n",
      "  % self.max_iter, ConvergenceWarning)\n",
      "C:\\Users\\Aravind Reddy\\Anaconda3\\lib\\site-packages\\sklearn\\neural_network\\multilayer_perceptron.py:566: ConvergenceWarning: Stochastic Optimizer: Maximum iterations (250) reached and the optimization hasn't converged yet.\n",
      "  % self.max_iter, ConvergenceWarning)\n",
      "C:\\Users\\Aravind Reddy\\Anaconda3\\lib\\site-packages\\sklearn\\neural_network\\multilayer_perceptron.py:566: ConvergenceWarning: Stochastic Optimizer: Maximum iterations (250) reached and the optimization hasn't converged yet.\n",
      "  % self.max_iter, ConvergenceWarning)\n",
      "C:\\Users\\Aravind Reddy\\Anaconda3\\lib\\site-packages\\sklearn\\neural_network\\multilayer_perceptron.py:566: ConvergenceWarning: Stochastic Optimizer: Maximum iterations (200) reached and the optimization hasn't converged yet.\n",
      "  % self.max_iter, ConvergenceWarning)\n",
      "C:\\Users\\Aravind Reddy\\Anaconda3\\lib\\site-packages\\sklearn\\neural_network\\multilayer_perceptron.py:566: ConvergenceWarning: Stochastic Optimizer: Maximum iterations (200) reached and the optimization hasn't converged yet.\n",
      "  % self.max_iter, ConvergenceWarning)\n",
      "C:\\Users\\Aravind Reddy\\Anaconda3\\lib\\site-packages\\sklearn\\neural_network\\multilayer_perceptron.py:566: ConvergenceWarning: Stochastic Optimizer: Maximum iterations (200) reached and the optimization hasn't converged yet.\n",
      "  % self.max_iter, ConvergenceWarning)\n",
      "C:\\Users\\Aravind Reddy\\Anaconda3\\lib\\site-packages\\sklearn\\neural_network\\multilayer_perceptron.py:566: ConvergenceWarning: Stochastic Optimizer: Maximum iterations (250) reached and the optimization hasn't converged yet.\n",
      "  % self.max_iter, ConvergenceWarning)\n",
      "C:\\Users\\Aravind Reddy\\Anaconda3\\lib\\site-packages\\sklearn\\neural_network\\multilayer_perceptron.py:566: ConvergenceWarning: Stochastic Optimizer: Maximum iterations (250) reached and the optimization hasn't converged yet.\n",
      "  % self.max_iter, ConvergenceWarning)\n",
      "C:\\Users\\Aravind Reddy\\Anaconda3\\lib\\site-packages\\sklearn\\neural_network\\multilayer_perceptron.py:566: ConvergenceWarning: Stochastic Optimizer: Maximum iterations (250) reached and the optimization hasn't converged yet.\n",
      "  % self.max_iter, ConvergenceWarning)\n",
      "C:\\Users\\Aravind Reddy\\Anaconda3\\lib\\site-packages\\sklearn\\neural_network\\multilayer_perceptron.py:566: ConvergenceWarning: Stochastic Optimizer: Maximum iterations (200) reached and the optimization hasn't converged yet.\n",
      "  % self.max_iter, ConvergenceWarning)\n",
      "C:\\Users\\Aravind Reddy\\Anaconda3\\lib\\site-packages\\sklearn\\neural_network\\multilayer_perceptron.py:566: ConvergenceWarning: Stochastic Optimizer: Maximum iterations (200) reached and the optimization hasn't converged yet.\n",
      "  % self.max_iter, ConvergenceWarning)\n",
      "C:\\Users\\Aravind Reddy\\Anaconda3\\lib\\site-packages\\sklearn\\neural_network\\multilayer_perceptron.py:566: ConvergenceWarning: Stochastic Optimizer: Maximum iterations (200) reached and the optimization hasn't converged yet.\n",
      "  % self.max_iter, ConvergenceWarning)\n",
      "C:\\Users\\Aravind Reddy\\Anaconda3\\lib\\site-packages\\sklearn\\neural_network\\multilayer_perceptron.py:566: ConvergenceWarning: Stochastic Optimizer: Maximum iterations (250) reached and the optimization hasn't converged yet.\n",
      "  % self.max_iter, ConvergenceWarning)\n",
      "C:\\Users\\Aravind Reddy\\Anaconda3\\lib\\site-packages\\sklearn\\neural_network\\multilayer_perceptron.py:566: ConvergenceWarning: Stochastic Optimizer: Maximum iterations (250) reached and the optimization hasn't converged yet.\n",
      "  % self.max_iter, ConvergenceWarning)\n",
      "C:\\Users\\Aravind Reddy\\Anaconda3\\lib\\site-packages\\sklearn\\neural_network\\multilayer_perceptron.py:566: ConvergenceWarning: Stochastic Optimizer: Maximum iterations (250) reached and the optimization hasn't converged yet.\n",
      "  % self.max_iter, ConvergenceWarning)\n"
     ]
    },
    {
     "name": "stdout",
     "output_type": "stream",
     "text": [
      "[[100   0   0   0   1   2   9  20   1   0]\n",
      " [  3   0   0   0   0   1   0   0   0   0]\n",
      " [  2   0   0   2   2   0   8   0   0   0]\n",
      " [  0   0   0  11   2   1   0   0   0   0]\n",
      " [  3   0   0   4   2   2   5   0   0   0]\n",
      " [  5   0   0   0   0  37   0   2   0   0]\n",
      " [ 24   0   0   0   2   2  43   3   0   0]\n",
      " [ 53   0   0   0   0   6  10  59   0   0]\n",
      " [  1   0   0   0   0   1   1   0   2   0]\n",
      " [  7   0   0   0   0   4   1   1   0   0]]\n",
      "              precision    recall  f1-score   support\n",
      "\n",
      "           0       0.51      0.75      0.60       133\n",
      "           1       0.00      0.00      0.00         4\n",
      "           2       0.00      0.00      0.00        14\n",
      "           3       0.65      0.79      0.71        14\n",
      "           4       0.22      0.12      0.16        16\n",
      "           5       0.66      0.84      0.74        44\n",
      "           6       0.56      0.58      0.57        74\n",
      "           7       0.69      0.46      0.55       128\n",
      "           8       0.67      0.40      0.50         5\n",
      "           9       0.00      0.00      0.00        13\n",
      "\n",
      "    accuracy                           0.57       445\n",
      "   macro avg       0.40      0.39      0.38       445\n",
      "weighted avg       0.54      0.57      0.54       445\n",
      "\n"
     ]
    },
    {
     "name": "stderr",
     "output_type": "stream",
     "text": [
      "C:\\Users\\Aravind Reddy\\Anaconda3\\lib\\site-packages\\sklearn\\neural_network\\multilayer_perceptron.py:566: ConvergenceWarning: Stochastic Optimizer: Maximum iterations (250) reached and the optimization hasn't converged yet.\n",
      "  % self.max_iter, ConvergenceWarning)\n",
      "C:\\Users\\Aravind Reddy\\Anaconda3\\lib\\site-packages\\sklearn\\metrics\\classification.py:1437: UndefinedMetricWarning: Precision and F-score are ill-defined and being set to 0.0 in labels with no predicted samples.\n",
      "  'precision', 'predicted', average, warn_for)\n"
     ]
    }
   ],
   "source": [
    "nn = MLPClassifier(solver='sgd',random_state=0)\n",
    "params = {\n",
    "    'hidden_layer_sizes': np.arange(50,150,20),\n",
    "    'learning_rate': ['constant','adaptive'],\n",
    "    'max_iter': np.arange(200,300,50)\n",
    "}\n",
    "nn_grid = GridSearchCV(nn, params, cv=3)\n",
    "nn_grid.fit(X_train,y_train)\n",
    "nn_predict = nn_grid.predict(X_test)\n",
    "printaccuracy(y_test,nn_predict)"
   ]
  },
  {
   "cell_type": "code",
   "execution_count": null,
   "metadata": {},
   "outputs": [],
   "source": []
  }
 ],
 "metadata": {
  "kernelspec": {
   "display_name": "Python 3",
   "language": "python",
   "name": "python3"
  },
  "language_info": {
   "codemirror_mode": {
    "name": "ipython",
    "version": 3
   },
   "file_extension": ".py",
   "mimetype": "text/x-python",
   "name": "python",
   "nbconvert_exporter": "python",
   "pygments_lexer": "ipython3",
   "version": "3.7.3"
  }
 },
 "nbformat": 4,
 "nbformat_minor": 2
}
